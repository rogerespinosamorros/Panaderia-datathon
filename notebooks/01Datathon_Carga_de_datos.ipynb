{
  "cells": [
    {
      "cell_type": "code",
      "execution_count": null,
      "metadata": {
        "colab": {
          "base_uri": "https://localhost:8080/"
        },
        "id": "zA6CHl-SEYwd",
        "outputId": "95941d1e-8f15-4c68-a728-5fc7b3a9a4ee"
      },
      "outputs": [
        {
          "name": "stdout",
          "output_type": "stream",
          "text": [
            "Collecting mysql.connector\n",
            "  Downloading mysql-connector-2.2.9.tar.gz (11.9 MB)\n",
            "\u001b[2K     \u001b[90m━━━━━━━━━━━━━━━━━━━━━━━━━━━━━━━━━━━━━━━━\u001b[0m \u001b[32m11.9/11.9 MB\u001b[0m \u001b[31m18.5 MB/s\u001b[0m eta \u001b[36m0:00:00\u001b[0m\n",
            "\u001b[?25h  Preparing metadata (setup.py) ... \u001b[?25l\u001b[?25hdone\n",
            "Building wheels for collected packages: mysql.connector\n",
            "  Building wheel for mysql.connector (setup.py) ... \u001b[?25l\u001b[?25hdone\n",
            "  Created wheel for mysql.connector: filename=mysql_connector-2.2.9-cp310-cp310-linux_x86_64.whl size=247953 sha256=636bc7ad0a9aeb731f838dc048fd2c6a276ac02a8db217f084189e91766a8dac\n",
            "  Stored in directory: /root/.cache/pip/wheels/76/48/9b/da67ff1a18fe8e9d428f9b1a177716d4a7d363d2bbe83bf6cf\n",
            "Successfully built mysql.connector\n",
            "Installing collected packages: mysql.connector\n",
            "Successfully installed mysql.connector-2.2.9\n"
          ]
        }
      ],
      "source": [
        "!pip install mysql.connector\n",
        "\n",
        "import xlrd\n",
        "import mysql.connector\n",
        "import pandas as pd\n",
        "\n",
        "# Conectarse a la base de datos MySQL\n",
        "conexion = mysql.connector.connect(\n",
        "    host=\"database-1.cjyy8w6ya3fr.eu-north-1.rds.amazonaws.com\",\n",
        "    user=\"usuario\",\n",
        "    password=\"password\"\n",
        ")"
      ]
    },
    {
      "cell_type": "code",
      "execution_count": null,
      "metadata": {
        "id": "FYW3bbG4F0um"
      },
      "outputs": [],
      "source": [
        "\n",
        "\n",
        "nombre_base_datos = \"sandbox\"\n",
        "nombre_tabla_ventas = \"rem_ventas\"\n",
        "nombre_tabla_calendario = \"rem_calendario\"\n",
        "nombre_tabla_pedidos = \"rem_pedidos\"\n",
        "\n",
        "cursor = conexion.cursor()\n",
        "cursor.execute(f\"CREATE DATABASE IF NOT EXISTS {nombre_base_datos}\")\n",
        "\n",
        "cursor.execute(f\"USE {nombre_base_datos}\")"
      ]
    },
    {
      "cell_type": "code",
      "execution_count": null,
      "metadata": {
        "id": "YQYz5MlhGV-O"
      },
      "outputs": [],
      "source": [
        "cursor.execute(f\"DROP TABLE IF EXISTS {nombre_tabla_ventas}\")\n",
        "cursor.execute(f\"CREATE TABLE IF NOT EXISTS {nombre_tabla_ventas} (\"\n",
        "               \"FAMILIA VARCHAR(255),\"\n",
        "               \"Tipo VARCHAR(255),\"\n",
        "               \"FechaVenta DATE,\"\n",
        "               \"HoraVenta INT,\"\n",
        "               \"Articulo VARCHAR(255),\"\n",
        "               \"Cantidad FLOAT,\"\n",
        "               \"Precio FLOAT,\"\n",
        "               \"Importe FLOAT\"\n",
        "               \")\")"
      ]
    },
    {
      "cell_type": "code",
      "execution_count": null,
      "metadata": {
        "id": "W1fcqqOiZshL"
      },
      "outputs": [],
      "source": [
        "cursor.execute(f\"DROP TABLE IF EXISTS {nombre_tabla_calendario}\")\n",
        "cursor.execute(f\"CREATE TABLE IF NOT EXISTS {nombre_tabla_calendario} (\"\n",
        "               \"Fecha DATE,\"\n",
        "               \"Festivo VARCHAR(255)\"\n",
        "               \")\")"
      ]
    },
    {
      "cell_type": "code",
      "execution_count": null,
      "metadata": {
        "id": "bgq4Hv03a8Fp"
      },
      "outputs": [],
      "source": [
        "cursor.execute(f\"DROP TABLE IF EXISTS {nombre_tabla_pedidos}\")\n",
        "cursor.execute(f\"CREATE TABLE IF NOT EXISTS {nombre_tabla_pedidos} (\"\n",
        "               \"Tipo VARCHAR(255),\"\n",
        "               \"Fecha DATE,\"\n",
        "               \"Articulo VARCHAR(255),\"\n",
        "               \"Cantidad FLOAT,\"\n",
        "               \"Precio FLOAT,\"\n",
        "               \"Importe FLOAT\"\n",
        "               \")\")"
      ]
    },
    {
      "cell_type": "code",
      "execution_count": null,
      "metadata": {
        "id": "7MpFlJJG-PdW"
      },
      "outputs": [],
      "source": [
        "# Cargar el archivo Excel en Colab\n",
        "nombre_archivo_ventas = \"ArticulosPanaderia.xlsx\"\n",
        "\n",
        "# Abrir el archivo Excel\n",
        "df = pd.read_excel(nombre_archivo_ventas)"
      ]
    },
    {
      "cell_type": "code",
      "execution_count": null,
      "metadata": {
        "id": "cmK7RyQo_S1R"
      },
      "outputs": [],
      "source": [
        "# Preparar los datos para la inserción en lotes\n",
        "registros = []\n",
        "for _, row in df.iterrows():\n",
        "    familia = row['FAMILIA']\n",
        "    tipo = row['Tipo']\n",
        "    fecha_venta = row['FechaVenta'].strftime('%Y-%m-%d')\n",
        "    hora_venta = row['HoraVenta']\n",
        "    articulo = row['Articulo']\n",
        "    cantidad = row['Cantidad']\n",
        "    precio = row['Precio']\n",
        "    importe = row['Importe']\n",
        "    registros.append((familia, tipo, fecha_venta, hora_venta, articulo, cantidad, precio, importe))\n"
      ]
    },
    {
      "cell_type": "code",
      "execution_count": null,
      "metadata": {
        "id": "RkH_2hMRH1rE"
      },
      "outputs": [],
      "source": [
        "# Cargar el archivo Excel en Colab\n",
        "nombre_archivo_ventas = \"ArticulosPanaderia.xlsx\"\n",
        "\n",
        "# Abrir el archivo Excel\n",
        "df = pd.read_excel(nombre_archivo_ventas)\n",
        "\n",
        "# Preparar los datos para la inserción en lotes\n",
        "registros = []\n",
        "for _, row in df.iterrows():\n",
        "    familia = row['FAMILIA']\n",
        "    tipo = row['Tipo']\n",
        "    fecha_venta = row['FechaVenta'].strftime('%Y-%m-%d')\n",
        "    hora_venta = row['HoraVenta']\n",
        "    articulo = row['Articulo']\n",
        "    cantidad = row['Cantidad']\n",
        "    precio = row['Precio']\n",
        "    importe = row['Importe']\n",
        "    registros.append((familia, tipo, fecha_venta, hora_venta, articulo, cantidad, precio, importe))\n",
        "\n",
        "# Crear la consulta SQL para insertar los datos en la tabla\n",
        "consulta = f\"INSERT INTO {nombre_tabla_ventas} (FAMILIA, Tipo, FechaVenta, HoraVenta, Articulo, Cantidad, Precio, Importe) \" \\\n",
        "           \"VALUES (%s, %s, %s, %s, %s, %s, %s, %s)\"\n",
        "\n",
        "# Ejecutar la consulta con la lista de registros en lotes\n",
        "tamano_lote = 1000\n",
        "for i in range(0, len(registros), tamano_lote):\n",
        "    lote_registros = registros[i:i + tamano_lote]\n",
        "    cursor = conexion.cursor()\n",
        "    cursor.executemany(consulta, lote_registros)\n",
        "    conexion.commit()"
      ]
    },
    {
      "cell_type": "code",
      "execution_count": null,
      "metadata": {
        "id": "dzdRc7tYL__c"
      },
      "outputs": [],
      "source": [
        "# Cargar el archivo Excel en Colab\n",
        "nombre_archivo_calendario = \"Calendario.xlsx\"\n",
        "\n",
        "# Abrir el archivo Excel\n",
        "df = pd.read_excel(nombre_archivo_calendario)\n",
        "\n",
        "# Preparar los datos para la inserción en lotes\n",
        "registros = []\n",
        "for _, row in df.iterrows():\n",
        "    fecha = row['Fecha'].strftime('%Y-%m-%d')\n",
        "    festivo = row['Festivo']\n",
        "    registros.append((fecha,festivo))\n",
        "\n",
        "# Crear la consulta SQL para insertar los datos en la tabla\n",
        "consulta = f\"INSERT INTO {nombre_tabla_calendario} (Fecha, Festivo) \" \\\n",
        "           \"VALUES (%s, %s)\"\n",
        "\n",
        "# Ejecutar la consulta con la lista de registros en lotes\n",
        "tamano_lote = 1000\n",
        "for i in range(0, len(registros), tamano_lote):\n",
        "    lote_registros = registros[i:i + tamano_lote]\n",
        "    cursor = conexion.cursor()\n",
        "    cursor.executemany(consulta, lote_registros)\n",
        "    conexion.commit()"
      ]
    },
    {
      "cell_type": "code",
      "execution_count": null,
      "metadata": {
        "id": "E5pqAX10cLgw"
      },
      "outputs": [],
      "source": [
        "# Cargar el archivo Excel en Colab\n",
        "nombre_archivo_pedidos = \"CantidadPedida.xlsx\"\n",
        "\n",
        "# Abrir el archivo Excel\n",
        "df = pd.read_excel(nombre_archivo_pedidos)\n",
        "\n",
        "# Preparar los datos para la inserción en lotes\n",
        "registros = []\n",
        "for _, row in df.iterrows():\n",
        "    tipo = row['Tipo']\n",
        "    fecha_venta = row['Fecha'].strftime('%Y-%m-%d')\n",
        "    articulo = row['Articulo']\n",
        "    cantidad = row['Cantidad']\n",
        "    precio = row['Precio']\n",
        "    importe = row['Importe']\n",
        "    registros.append(( tipo, fecha_venta, articulo, cantidad, precio, importe))\n",
        "\n",
        "# Crear la consulta SQL para insertar los datos en la tabla\n",
        "consulta = f\"INSERT INTO {nombre_tabla_pedidos} (Tipo, Fecha, Articulo, Cantidad, Precio, Importe) \" \\\n",
        "           \"VALUES (%s, %s, %s, %s, %s, %s)\"\n",
        "\n",
        "# Ejecutar la consulta con la lista de registros en lotes\n",
        "tamano_lote = 1000\n",
        "for i in range(0, len(registros), tamano_lote):\n",
        "    lote_registros = registros[i:i + tamano_lote]\n",
        "    cursor = conexion.cursor()\n",
        "    cursor.executemany(consulta, lote_registros)\n",
        "    conexion.commit()"
      ]
    },
    {
      "cell_type": "code",
      "execution_count": null,
      "metadata": {
        "id": "fC4arDeknUjE"
      },
      "outputs": [],
      "source": [
        "# Nota: las consultas siguientes están preparadas para lanzarse con los datos cargados en la bbdd data y con los nombres iniciales, si se lanzan con usuario1 debae adaptarse\n",
        "\n",
        "consulta_proceso=\"\"\"\n",
        "\n",
        "\n",
        "/*Ordenamos los productos por familia*/\n",
        "drop table if exists data.articulos_top;\n",
        "create table data.articulos_top as (\n",
        "\n",
        "\tselect\n",
        "\tArticulo,\n",
        "\tFAMILIA,\n",
        "\tsum(importe) as importe_total,\n",
        "\tROW_NUMBER () OVER(partition by FAMILIA order by sum(importe) desc) as orden\n",
        "\tfrom data.raw_ventas\n",
        "\twhere FechaVenta >= '2021-05-01'\n",
        "\tgroup by 1,2\n",
        "\n",
        ");\n",
        "\n",
        "\n",
        "/*Creamos un calendario general del 1/1/2017 al 31/12/2023*/\n",
        "drop table if exists data.calendario_dias;\n",
        "create table data.calendario_dias as (\n",
        "\n",
        "with recursive cte_calendario as (\n",
        "\tselect date('2017-01-01') as calendar_date -- fecha de inicio\n",
        "\tunion all\n",
        "\tselect date_add(calendar_date, interval 1 day) as calendar_date from cte_calendario\n",
        "\twhere date_add(calendar_date, interval 1 day) <= date('2023-12-31') -- condicion de fin, fecha final\n",
        ")\n",
        "\n",
        "select\n",
        "calendar_date as fecha,\n",
        "year(calendar_date) as fx_anno,\n",
        "month(calendar_date) as fx_mes,\n",
        "day(calendar_date) as fx_day,\n",
        "date_format(calendar_date, '%Y%m') as fx_anno_mes,\n",
        "date_format(calendar_Date,'%x-%v') as semana -- formato\n",
        "from cte_calendario\n",
        "\n",
        ");\n",
        "\n",
        "/*Añadimos al calendario los festivos*/\n",
        "drop table if exists data.calendario_completo;\n",
        "create table data.calendario_completo as (\n",
        "select\n",
        "base.*,\n",
        "festivos.festivo\n",
        "from data.calendario_dias base\n",
        "left join\n",
        "\t(select\n",
        "\ta.*,\n",
        "\trow_number() over(partition by a.fecha order by a.festivo) as orden\n",
        "\tfrom data.raw_calendario a\n",
        "\t) festivos\n",
        "on base.fecha=festivos.fecha\n",
        "and festivos.orden=1\n",
        ");\n",
        "\n",
        "/*Agregamos las ventas por día (quitamos el detalle por hora)*/\n",
        "\n",
        "/*Añadimos además el orden del producto y si está en el rango de fecha de estudio*/\n",
        "drop table if exists data.ventas_diarias;\n",
        "create table data.ventas_diarias as (\n",
        "select\n",
        "base.familia,\n",
        "base.tipo,\n",
        "base.fechaVenta,\n",
        "calendario.festivo,\n",
        "base.articulo,\n",
        "sum(base.precio*base.cantidad)/sum(base.cantidad) as precio, /* Se calcula como el precio promedio del día, ya que hay cambios de precio a lo largo del día*/\n",
        "articulos.orden as orden_articulo_familia,\n",
        "case when base.fechaVenta >=date('2021-05-01') then 'S' else 'N' end as in_fecha_estudio,\n",
        "sum(base.cantidad) as cantidad,\n",
        "sum(base.importe) as importe\n",
        "\n",
        "from sandbox.raw_ventas base\n",
        "\n",
        "inner join data.calendario_completo calendario\n",
        "on base.FechaVenta=calendario.fecha\n",
        "\n",
        "inner join data.articulos_top articulos\n",
        "on base.familia=articulos.familia\n",
        "and base.articulo=articulos.articulo\n",
        "\n",
        "\n",
        "group by 1,2,3,4,5,7,8);\n",
        "\n",
        "\n",
        "/*Creamos una vista final con el filtrado para el estudio*/\n",
        "drop view if exists data.ventas_diarias_estudio_completo;\n",
        "create view data.ventas_diarias_estudio_completo as\n",
        "(select *\n",
        "from data.ventas_diarias\n",
        "where tipo='VENTA'\n",
        "and in_fecha_estudio='S'\n",
        "and orden_articulo_familia<=5);\n",
        "\n",
        "\n",
        "/*Creamos una vista extra con el filtrado para el estudio que no tenga días de mayo 23 (que habrá que predecir)*/\n",
        "drop view if exists data.ventas_diarias_estudio;\n",
        "create view data.ventas_diarias_estudio as\n",
        "(select *\n",
        "from data.ventas_diarias\n",
        "where tipo='VENTA'\n",
        "and in_fecha_estudio='S'\n",
        "and fechaventa < date('2023-05-01')\n",
        "and orden_articulo_familia<=5);\n",
        "\"\"\""
      ]
    },
    {
      "cell_type": "code",
      "execution_count": null,
      "metadata": {
        "id": "Y_JKs9vmrwwy"
      },
      "outputs": [],
      "source": [
        "# Separar las consultas en una lista\n",
        "consultas_lista = consulta_proceso.split(\";\")\n",
        "\n",
        "# Eliminar espacios en blanco y elementos vacíos\n",
        "consultas_lista = [consulta.strip() for consulta in consultas_lista if consulta.strip()]\n",
        "\n",
        "# Ejecutar las consultas\n",
        "for consulta in consultas_lista:\n",
        "    cursor.execute(consulta)\n",
        "\n",
        "# Confirmar los cambios\n",
        "conexion.commit()"
      ]
    },
    {
      "cell_type": "markdown",
      "metadata": {
        "id": "kiEfBfVOB_ik"
      },
      "source": []
    },
    {
      "cell_type": "code",
      "execution_count": null,
      "metadata": {
        "id": "6cPD1EGgYsIF"
      },
      "outputs": [],
      "source": [
        "# cursor.execute(f\"grant select on {nombre_base_datos}.ventas_diarias to usuario1\")\n",
        "# cursor.execute(f\"grant select on {nombre_base_datos}.ventas_diarias_estudio to usuario1\")"
      ]
    },
    {
      "cell_type": "code",
      "execution_count": null,
      "metadata": {
        "id": "qh_7R53Z5N8E"
      },
      "outputs": [],
      "source": [
        "# Consultas adicionales por problema de permisos del usuario usuario1 en la base de datos data"
      ]
    },
    {
      "cell_type": "code",
      "execution_count": null,
      "metadata": {
        "id": "uw5Vu9Nl59JO"
      },
      "outputs": [],
      "source": [
        "cursor.execute(f\"drop table if exists classicmodels.ventas_diarias_estudio;\")"
      ]
    },
    {
      "cell_type": "markdown",
      "metadata": {
        "id": "Kvgau6Hn8ifs"
      },
      "source": []
    },
    {
      "cell_type": "code",
      "execution_count": null,
      "metadata": {
        "id": "v5EqkZR34k2I"
      },
      "outputs": [],
      "source": [
        "cursor.execute(f\"CREATE TABLE classicmodels.ventas_diarias_estudio as SELECT * FROM {nombre_base_datos}.ventas_diarias_estudio\")"
      ]
    },
    {
      "cell_type": "markdown",
      "metadata": {
        "id": "uQWjdXOL5u6z"
      },
      "source": []
    }
  ],
  "metadata": {
    "colab": {
      "provenance": []
    },
    "kernelspec": {
      "display_name": "panaderia-datathon",
      "language": "python",
      "name": "python3"
    },
    "language_info": {
      "name": "python",
      "version": "3.11.13"
    }
  },
  "nbformat": 4,
  "nbformat_minor": 0
}
