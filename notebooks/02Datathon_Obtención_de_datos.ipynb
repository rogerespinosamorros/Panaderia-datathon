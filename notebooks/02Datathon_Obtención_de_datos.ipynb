{
  "cells": [
    {
      "cell_type": "markdown",
      "id": "52a895d0",
      "metadata": {
        "id": "52a895d0"
      },
      "source": [
        "# Obtención de datos de la BBDD"
      ]
    },
    {
      "cell_type": "code",
      "execution_count": null,
      "id": "8ee91714",
      "metadata": {
        "colab": {
          "base_uri": "https://localhost:8080/"
        },
        "id": "8ee91714",
        "outputId": "74cf8e08-edfd-456e-aaeb-f20aa7639f02"
      },
      "outputs": [],
      "source": [
        "import polars as pl\n",
        "from sqlalchemy import create_engine, text\n",
        "from sqlalchemy.exc import SQLAlchemyError\n",
        "from dotenv import load_dotenv\n",
        "import os\n",
        "\n",
        "\n"
      ]
    },
    {
      "cell_type": "code",
      "execution_count": null,
      "id": "5647909a",
      "metadata": {},
      "outputs": [],
      "source": [
        "# Creación de la clase pero con .env y Polars, teniendo que cambiar el código original\n",
        "\n",
        "class DatabaseConnection:\n",
        "    def __init__(self):\n",
        "        load_dotenv()  # Variables de entorno\n",
        "        port = 3306  # Puerto por defecto de MySQL\n",
        "        user = os.getenv(\"DB_USER\")\n",
        "        password = os.getenv(\"DB_PASSWORD\")\n",
        "        host = os.getenv(\"DB_HOST\")\n",
        "        nombre_base_datos = os.getenv(\"DB_NAME\") \n",
        "        self.engine = create_engine(\n",
        "            f\"mysql+mysqlconnector://{user}:{password}@{host}:{port}/{nombre_base_datos}\"\n",
        "        )\n",
        "\n",
        "    def query_to_polars(self, sql_query):\n",
        "        try:\n",
        "            with self.engine.connect() as conn:\n",
        "                result = conn.execute(text(sql_query))\n",
        "                columns = result.keys()\n",
        "                rows = result.fetchall()\n",
        "                if not rows:\n",
        "                    print(\"Consulta ejecutada correctamente pero no hay resultados.\")\n",
        "                    return pl.DataFrame(schema=columns)\n",
        "                print(\"Consulta ejecutada correctamente.\")\n",
        "                return pl.DataFrame(rows, schema=columns)\n",
        "        except SQLAlchemyError as e:\n",
        "            print(f\"Error de SQLAlchemy al ejecutar la consulta:\\{e}\")\n",
        "            return None\n",
        "        except Exception as e:\n",
        "            print(f\"Error inesperado:\\{e}\")\n",
        "            return None"
      ]
    },
    {
      "cell_type": "markdown",
      "id": "36da5ccb",
      "metadata": {
        "id": "36da5ccb"
      },
      "source": [
        "## Conexión y consulta a la base de datos"
      ]
    },
    {
      "cell_type": "code",
      "execution_count": null,
      "id": "68b4b7a0",
      "metadata": {
        "colab": {
          "base_uri": "https://localhost:8080/",
          "height": 423
        },
        "id": "68b4b7a0",
        "outputId": "a71058e6-e95e-462b-f61a-c83b2d876bed"
      },
      "outputs": [],
      "source": [
        "# Usamos y probamos la clase\n",
        "db = DatabaseConnection()\n",
        "\n",
        "query = \"\"\"\n",
        "SELECT *\n",
        "FROM ventas_diarias_estudio\n",
        "WHERE ARTICULO = '3960'\n",
        "\"\"\"\n",
        "\n",
        "ventas = db.query_to_polars(query)\n",
        "ventas"
      ]
    },
    {
      "cell_type": "markdown",
      "id": "d6f7e309",
      "metadata": {
        "id": "d6f7e309"
      },
      "source": [
        "## Nota sobre los cambios respecto al notebook original\n",
        "\n",
        "En esta versión del proyecto, he realizado varios cambios respecto al código base proporcionado:\n",
        "\n",
        "- **Uso de Polars en vez de pandas:**  \n",
        "  He optado por seguir utilizando Polars para la manipulación de datos en Python, ya que es una librería más eficiente y rápida para grandes volúmenes de datos, además de ofrecer una sintaxis moderna y muy potente para análisis y transformaciones.\n",
        "\n",
        "- **Conexión a la base de datos con SQLAlchemy:**  \n",
        "  En lugar de conectores más simples como `mysql-connector` o `pymysql`, sigo utilizando SQLAlchemy, que es más flexible y profesional, y permite una mejor gestión de conexiones, transacciones y portabilidad del código.\n",
        "\n",
        "- **Gestión de credenciales con dotenv:**  \n",
        "  Para evitar exponer contraseñas y parámetros sensibles en el código, he usado la librería `python-dotenv` y guardo los datos de conexión en un archivo `.env`, que está excluido del repositorio con `.gitignore` para mayor seguridad.\n",
        "\n",
        "- **Manejo de errores y código más robusto:**  \n",
        "  Se ha añadido control de errores y mensajes informativos en las funciones de consulta para asegurar que cualquier fallo en la conexión o en las queries sea fácil de identificar y depurar, acción que ayuda mucho para identificar errores de todo tipo.\n",
        "\n",
        "En definitiva, estos cambios son para seguir un poco la lógica del primer notebook, y seguir usando las mismas librerías y dependencias.\n"
      ]
    }
  ],
  "metadata": {
    "colab": {
      "provenance": []
    },
    "kernelspec": {
      "display_name": "panaderia-datathon",
      "language": "python",
      "name": "python3"
    },
    "language_info": {
      "codemirror_mode": {
        "name": "ipython",
        "version": 3
      },
      "file_extension": ".py",
      "mimetype": "text/x-python",
      "name": "python",
      "nbconvert_exporter": "python",
      "pygments_lexer": "ipython3",
      "version": "3.11.13"
    }
  },
  "nbformat": 4,
  "nbformat_minor": 5
}
