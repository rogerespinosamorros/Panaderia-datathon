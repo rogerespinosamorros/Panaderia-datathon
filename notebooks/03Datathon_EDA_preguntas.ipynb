{
  "cells": [
    {
      "cell_type": "markdown",
      "id": "c0966c97",
      "metadata": {},
      "source": [
        "## Nota sobre los cambios respecto al notebook original\n",
        "\n",
        "En esta versión del proyecto, he realizado varios cambios respecto al código base proporcionado:\n",
        "\n",
        "- **Uso de Polars en vez de pandas:**  \n",
        "  He optado por seguir utilizando Polars para la manipulación de datos en Python, ya que es una librería más eficiente y rápida para grandes volúmenes de datos, además de ofrecer una sintaxis moderna y muy potente para análisis y transformaciones.\n",
        "\n",
        "- **Conexión a la base de datos con SQLAlchemy:**  \n",
        "  En lugar de conectores más simples como `mysql-connector` o `pymysql`, sigo utilizando SQLAlchemy, que es más flexible y profesional, y permite una mejor gestión de conexiones, transacciones y portabilidad del código.\n",
        "\n",
        "- **Gestión de credenciales con dotenv:**  \n",
        "  Para evitar exponer contraseñas y parámetros sensibles en el código, he usado la librería `python-dotenv` y guardo los datos de conexión en un archivo `.env`, que está excluido del repositorio con `.gitignore` para mayor seguridad.\n",
        "\n",
        "- **Manejo de errores y código más robusto:**  \n",
        "  Se ha añadido control de errores y mensajes informativos en las funciones de consulta para asegurar que cualquier fallo en la conexión o en las queries sea fácil de identificar y depurar, acción que ayuda mucho para identificar errores de todo tipo.\n",
        "\n",
        "En definitiva, estos cambios son para seguir un poco la lógica del primer notebook, y seguir usando las mismas librerías y dependencias.\n"
      ]
    },
    {
      "cell_type": "code",
      "execution_count": 98,
      "id": "9bb81741",
      "metadata": {},
      "outputs": [],
      "source": [
        "# Importamos todas las dependencias necesarias (a priori)\n",
        "\n",
        "import pandas as pd\n",
        "import numpy as np\n",
        "import polars as pl\n",
        "\n",
        "from dotenv import load_dotenv\n",
        "import os\n",
        "\n",
        "import datetime\n",
        "\n",
        "from meteostat import Point, Daily\n",
        "import sqlalchemy as sa\n",
        "from sqlalchemy import create_engine, text\n",
        "from sqlalchemy.exc import SQLAlchemyError\n",
        "\n",
        "from sklearn.preprocessing import MinMaxScaler\n",
        "from statsmodels.tsa.stattools import adfuller\n",
        "from statsmodels.graphics.tsaplots import plot_acf\n",
        "\n",
        "import plotly.express as px\n",
        "import matplotlib.pyplot as plt\n",
        "import missingno as msno"
      ]
    },
    {
      "cell_type": "markdown",
      "id": "36da5ccb",
      "metadata": {
        "id": "36da5ccb"
      },
      "source": [
        "## 1. Consulta a la base de datos"
      ]
    },
    {
      "cell_type": "code",
      "execution_count": 68,
      "id": "68b4b7a0",
      "metadata": {
        "colab": {
          "base_uri": "https://localhost:8080/",
          "height": 478
        },
        "id": "68b4b7a0",
        "outputId": "8b8a28e8-5f96-4c09-a048-e0aa7a20682c"
      },
      "outputs": [
        {
          "name": "stdout",
          "output_type": "stream",
          "text": [
            "Consulta ejecutada correctamente.\n"
          ]
        },
        {
          "data": {
            "text/html": [
              "<div><style>\n",
              ".dataframe > thead > tr,\n",
              ".dataframe > tbody > tr {\n",
              "  text-align: right;\n",
              "  white-space: pre-wrap;\n",
              "}\n",
              "</style>\n",
              "<small>shape: (730, 10)</small><table border=\"1\" class=\"dataframe\"><thead><tr><th>familia</th><th>tipo</th><th>fechaVenta</th><th>festivo</th><th>articulo</th><th>precio</th><th>orden_articulo_familia</th><th>in_fecha_estudio</th><th>cantidad</th><th>importe</th></tr><tr><td>str</td><td>str</td><td>date</td><td>str</td><td>str</td><td>f64</td><td>i64</td><td>str</td><td>f64</td><td>f64</td></tr></thead><tbody><tr><td>&quot;BOLLERIA&quot;</td><td>&quot;VENTA&quot;</td><td>2021-05-01</td><td>null</td><td>&quot;3960&quot;</td><td>2.318</td><td>1</td><td>&quot;S&quot;</td><td>2412.0</td><td>5591.015968</td></tr><tr><td>&quot;BOLLERIA&quot;</td><td>&quot;VENTA&quot;</td><td>2021-05-02</td><td>&quot;Día de la Madre&quot;</td><td>&quot;3960&quot;</td><td>2.318</td><td>1</td><td>&quot;S&quot;</td><td>2214.0</td><td>5132.051977</td></tr><tr><td>&quot;BOLLERIA&quot;</td><td>&quot;VENTA&quot;</td><td>2021-05-03</td><td>&quot;Día de la Cruz&quot;</td><td>&quot;3960&quot;</td><td>2.318</td><td>1</td><td>&quot;S&quot;</td><td>1368.0</td><td>3171.023967</td></tr><tr><td>&quot;BOLLERIA&quot;</td><td>&quot;VENTA&quot;</td><td>2021-05-04</td><td>null</td><td>&quot;3960&quot;</td><td>2.318</td><td>1</td><td>&quot;S&quot;</td><td>1422.0</td><td>3296.195992</td></tr><tr><td>&quot;BOLLERIA&quot;</td><td>&quot;VENTA&quot;</td><td>2021-05-05</td><td>null</td><td>&quot;3960&quot;</td><td>2.318</td><td>1</td><td>&quot;S&quot;</td><td>1728.0</td><td>4005.504001</td></tr><tr><td>&hellip;</td><td>&hellip;</td><td>&hellip;</td><td>&hellip;</td><td>&hellip;</td><td>&hellip;</td><td>&hellip;</td><td>&hellip;</td><td>&hellip;</td><td>&hellip;</td></tr><tr><td>&quot;BOLLERIA&quot;</td><td>&quot;VENTA&quot;</td><td>2023-04-26</td><td>null</td><td>&quot;3960&quot;</td><td>3.273</td><td>1</td><td>&quot;S&quot;</td><td>972.0</td><td>3181.356079</td></tr><tr><td>&quot;BOLLERIA&quot;</td><td>&quot;VENTA&quot;</td><td>2023-04-27</td><td>null</td><td>&quot;3960&quot;</td><td>3.273</td><td>1</td><td>&quot;S&quot;</td><td>1296.0</td><td>4241.808105</td></tr><tr><td>&quot;BOLLERIA&quot;</td><td>&quot;VENTA&quot;</td><td>2023-04-28</td><td>null</td><td>&quot;3960&quot;</td><td>3.273</td><td>1</td><td>&quot;S&quot;</td><td>1098.0</td><td>3593.754089</td></tr><tr><td>&quot;BOLLERIA&quot;</td><td>&quot;VENTA&quot;</td><td>2023-04-29</td><td>null</td><td>&quot;3960&quot;</td><td>3.273</td><td>1</td><td>&quot;S&quot;</td><td>1494.0</td><td>4889.862122</td></tr><tr><td>&quot;BOLLERIA&quot;</td><td>&quot;VENTA&quot;</td><td>2023-04-30</td><td>null</td><td>&quot;3960&quot;</td><td>3.273</td><td>1</td><td>&quot;S&quot;</td><td>1980.0</td><td>6480.540161</td></tr></tbody></table></div>"
            ],
            "text/plain": [
              "shape: (730, 10)\n",
              "┌──────────┬───────┬────────────┬────────────┬───┬────────────┬────────────┬──────────┬────────────┐\n",
              "│ familia  ┆ tipo  ┆ fechaVenta ┆ festivo    ┆ … ┆ orden_arti ┆ in_fecha_e ┆ cantidad ┆ importe    │\n",
              "│ ---      ┆ ---   ┆ ---        ┆ ---        ┆   ┆ culo_famil ┆ studio     ┆ ---      ┆ ---        │\n",
              "│ str      ┆ str   ┆ date       ┆ str        ┆   ┆ ia         ┆ ---        ┆ f64      ┆ f64        │\n",
              "│          ┆       ┆            ┆            ┆   ┆ ---        ┆ str        ┆          ┆            │\n",
              "│          ┆       ┆            ┆            ┆   ┆ i64        ┆            ┆          ┆            │\n",
              "╞══════════╪═══════╪════════════╪════════════╪═══╪════════════╪════════════╪══════════╪════════════╡\n",
              "│ BOLLERIA ┆ VENTA ┆ 2021-05-01 ┆ null       ┆ … ┆ 1          ┆ S          ┆ 2412.0   ┆ 5591.01596 │\n",
              "│          ┆       ┆            ┆            ┆   ┆            ┆            ┆          ┆ 8          │\n",
              "│ BOLLERIA ┆ VENTA ┆ 2021-05-02 ┆ Día de la  ┆ … ┆ 1          ┆ S          ┆ 2214.0   ┆ 5132.05197 │\n",
              "│          ┆       ┆            ┆ Madre      ┆   ┆            ┆            ┆          ┆ 7          │\n",
              "│ BOLLERIA ┆ VENTA ┆ 2021-05-03 ┆ Día de la  ┆ … ┆ 1          ┆ S          ┆ 1368.0   ┆ 3171.02396 │\n",
              "│          ┆       ┆            ┆ Cruz       ┆   ┆            ┆            ┆          ┆ 7          │\n",
              "│ BOLLERIA ┆ VENTA ┆ 2021-05-04 ┆ null       ┆ … ┆ 1          ┆ S          ┆ 1422.0   ┆ 3296.19599 │\n",
              "│          ┆       ┆            ┆            ┆   ┆            ┆            ┆          ┆ 2          │\n",
              "│ BOLLERIA ┆ VENTA ┆ 2021-05-05 ┆ null       ┆ … ┆ 1          ┆ S          ┆ 1728.0   ┆ 4005.50400 │\n",
              "│          ┆       ┆            ┆            ┆   ┆            ┆            ┆          ┆ 1          │\n",
              "│ …        ┆ …     ┆ …          ┆ …          ┆ … ┆ …          ┆ …          ┆ …        ┆ …          │\n",
              "│ BOLLERIA ┆ VENTA ┆ 2023-04-26 ┆ null       ┆ … ┆ 1          ┆ S          ┆ 972.0    ┆ 3181.35607 │\n",
              "│          ┆       ┆            ┆            ┆   ┆            ┆            ┆          ┆ 9          │\n",
              "│ BOLLERIA ┆ VENTA ┆ 2023-04-27 ┆ null       ┆ … ┆ 1          ┆ S          ┆ 1296.0   ┆ 4241.80810 │\n",
              "│          ┆       ┆            ┆            ┆   ┆            ┆            ┆          ┆ 5          │\n",
              "│ BOLLERIA ┆ VENTA ┆ 2023-04-28 ┆ null       ┆ … ┆ 1          ┆ S          ┆ 1098.0   ┆ 3593.75408 │\n",
              "│          ┆       ┆            ┆            ┆   ┆            ┆            ┆          ┆ 9          │\n",
              "│ BOLLERIA ┆ VENTA ┆ 2023-04-29 ┆ null       ┆ … ┆ 1          ┆ S          ┆ 1494.0   ┆ 4889.86212 │\n",
              "│          ┆       ┆            ┆            ┆   ┆            ┆            ┆          ┆ 2          │\n",
              "│ BOLLERIA ┆ VENTA ┆ 2023-04-30 ┆ null       ┆ … ┆ 1          ┆ S          ┆ 1980.0   ┆ 6480.54016 │\n",
              "│          ┆       ┆            ┆            ┆   ┆            ┆            ┆          ┆ 1          │\n",
              "└──────────┴───────┴────────────┴────────────┴───┴────────────┴────────────┴──────────┴────────────┘"
            ]
          },
          "execution_count": 68,
          "metadata": {},
          "output_type": "execute_result"
        }
      ],
      "source": [
        "# Paso hecho anteriormente en el notebook 02, he visto que aquí también está así que vuelvo a hacer este paso\n",
        "class DatabaseConnection:\n",
        "\n",
        "    # Información necesaria para establecer la conexión a la BBDD\n",
        "    def __init__(self):\n",
        "        load_dotenv()  # Variables de entorno\n",
        "        port = 3306  # Puerto por defecto de MySQL\n",
        "        user = os.getenv(\"DB_USER\")\n",
        "        password = os.getenv(\"DB_PASSWORD\")\n",
        "        host = os.getenv(\"DB_HOST\")\n",
        "        nombre_base_datos = os.getenv(\"DB_NAME\") \n",
        "        self.engine = create_engine(\n",
        "            f\"mysql+mysqlconnector://{user}:{password}@{host}:{port}/{nombre_base_datos}\"\n",
        "        )\n",
        "\n",
        "    # Función cuyo cometido es consultar una query a la BBDD y devolverla como un dataframe de Polars\n",
        "    def query_to_polars(self, sql_query):\n",
        "        try:\n",
        "            with self.engine.connect() as conn:\n",
        "                result = conn.execute(text(sql_query))\n",
        "                columns = result.keys()\n",
        "                rows = result.fetchall()\n",
        "                if not rows:\n",
        "                    print(\"Consulta ejecutada correctamente pero no hay resultados.\")\n",
        "                    return pl.DataFrame(schema=columns)\n",
        "                print(\"Consulta ejecutada correctamente.\")\n",
        "                return pl.DataFrame(rows, schema=columns)\n",
        "        except SQLAlchemyError as e:\n",
        "            print(f\"Error de SQLAlchemy al ejecutar la consulta:\\{e}\")\n",
        "            return None\n",
        "        except Exception as e:\n",
        "            print(f\"Error inesperado:\\{e}\")\n",
        "            return None\n",
        "\n",
        "# Usamos y probamos la clase\n",
        "db = DatabaseConnection()\n",
        "\n",
        "query = \"\"\"\n",
        "SELECT *\n",
        "FROM ventas_diarias_estudio\n",
        "WHERE ARTICULO = '3960'\n",
        "\"\"\"\n",
        "\n",
        "ventas_prueba = db.query_to_polars(query)\n",
        "ventas_prueba\n",
        "\n",
        "\n"
      ]
    },
    {
      "cell_type": "code",
      "execution_count": null,
      "id": "c1107735",
      "metadata": {},
      "outputs": [
        {
          "name": "stdout",
          "output_type": "stream",
          "text": [
            "Consulta ejecutada correctamente.\n"
          ]
        }
      ],
      "source": [
        "# La Query está adaptada, usa mi base y mi tabla correcta (nombre)\n",
        "# IMP: se omiten las columnas irrelevantes -> 'in_fecha_estudio' y 'tipo'\n",
        "query_daily_and_top = \"\"\"\n",
        "SELECT  familia,\n",
        "        articulo,\n",
        "        fechaVenta AS fecha_venta,\n",
        "        festivo,\n",
        "        precio,\n",
        "        cantidad,\n",
        "        importe,\n",
        "        orden_articulo_familia\n",
        "\n",
        "FROM ventas_diarias_estudio_completo\n",
        "\"\"\"\n",
        "# !!ESCRIBIR EL \"COMPLETO\"!! tenia errores en la carga de datos por no añadir el \"completo\" en la consulta SQL\n",
        "\n",
        "# Instanciar la clase con la contraseña de la BBDD (mejor ocultar la contraseña)\n",
        "db = DatabaseConnection()\n",
        "\n",
        "# Consultar la query anterior y devolverla como un dataframe de Polars\n",
        "ventas = db.query_to_polars(query_daily_and_top)\n",
        "\n",
        "# Convertir 'articulo' a entero en Polars, ya cambié el formato a \"Date\" al insertar las tablas en el primer notebook\n",
        "ventas = ventas.with_columns([\n",
        "    pl.col(\"articulo\").cast(pl.Int64)\n",
        "])"
      ]
    },
    {
      "cell_type": "code",
      "execution_count": 76,
      "id": "7c318155",
      "metadata": {},
      "outputs": [
        {
          "data": {
            "text/html": [
              "<div><style>\n",
              ".dataframe > thead > tr,\n",
              ".dataframe > tbody > tr {\n",
              "  text-align: right;\n",
              "  white-space: pre-wrap;\n",
              "}\n",
              "</style>\n",
              "<small>shape: (10_574, 8)</small><table border=\"1\" class=\"dataframe\"><thead><tr><th>familia</th><th>articulo</th><th>fecha_venta</th><th>festivo</th><th>precio</th><th>cantidad</th><th>importe</th><th>orden_articulo_familia</th></tr><tr><td>str</td><td>i64</td><td>date</td><td>str</td><td>f64</td><td>f64</td><td>f64</td><td>i64</td></tr></thead><tbody><tr><td>&quot;BOLLERIA&quot;</td><td>3880</td><td>2021-05-01</td><td>null</td><td>2.591</td><td>1710.0</td><td>4430.609985</td><td>3</td></tr><tr><td>&quot;BOLLERIA&quot;</td><td>3960</td><td>2021-05-01</td><td>null</td><td>2.318</td><td>2412.0</td><td>5591.015968</td><td>1</td></tr><tr><td>&quot;BOLLERIA&quot;</td><td>5803</td><td>2021-05-01</td><td>null</td><td>2.727</td><td>1422.0</td><td>3877.793884</td><td>5</td></tr><tr><td>&quot;BOLLERIA&quot;</td><td>6286</td><td>2021-05-01</td><td>null</td><td>3.136</td><td>990.0</td><td>3104.640038</td><td>4</td></tr><tr><td>&quot;BOLLERIA&quot;</td><td>6425</td><td>2021-05-01</td><td>null</td><td>31.364</td><td>190.349997</td><td>5970.1325</td><td>2</td></tr><tr><td>&hellip;</td><td>&hellip;</td><td>&hellip;</td><td>&hellip;</td><td>&hellip;</td><td>&hellip;</td><td>&hellip;</td><td>&hellip;</td></tr><tr><td>&quot;PASTELERIA&quot;</td><td>6523</td><td>2023-05-17</td><td>null</td><td>40.772999</td><td>72.0</td><td>2935.656006</td><td>3</td></tr><tr><td>&quot;PASTELERIA&quot;</td><td>5403</td><td>2023-05-18</td><td>null</td><td>40.772999</td><td>46.800001</td><td>1908.174042</td><td>2</td></tr><tr><td>&quot;PASTELERIA&quot;</td><td>5404</td><td>2023-05-18</td><td>null</td><td>43.5</td><td>108.0</td><td>4698.0</td><td>1</td></tr><tr><td>&quot;PASTELERIA&quot;</td><td>6451</td><td>2023-05-18</td><td>null</td><td>43.5</td><td>18.0</td><td>783.0</td><td>4</td></tr><tr><td>&quot;PASTELERIA&quot;</td><td>6523</td><td>2023-05-18</td><td>null</td><td>40.772999</td><td>18.0</td><td>733.914001</td><td>3</td></tr></tbody></table></div>"
            ],
            "text/plain": [
              "shape: (10_574, 8)\n",
              "┌────────────┬──────────┬─────────────┬─────────┬───────────┬────────────┬────────────┬────────────┐\n",
              "│ familia    ┆ articulo ┆ fecha_venta ┆ festivo ┆ precio    ┆ cantidad   ┆ importe    ┆ orden_arti │\n",
              "│ ---        ┆ ---      ┆ ---         ┆ ---     ┆ ---       ┆ ---        ┆ ---        ┆ culo_famil │\n",
              "│ str        ┆ i64      ┆ date        ┆ str     ┆ f64       ┆ f64        ┆ f64        ┆ ia         │\n",
              "│            ┆          ┆             ┆         ┆           ┆            ┆            ┆ ---        │\n",
              "│            ┆          ┆             ┆         ┆           ┆            ┆            ┆ i64        │\n",
              "╞════════════╪══════════╪═════════════╪═════════╪═══════════╪════════════╪════════════╪════════════╡\n",
              "│ BOLLERIA   ┆ 3880     ┆ 2021-05-01  ┆ null    ┆ 2.591     ┆ 1710.0     ┆ 4430.60998 ┆ 3          │\n",
              "│            ┆          ┆             ┆         ┆           ┆            ┆ 5          ┆            │\n",
              "│ BOLLERIA   ┆ 3960     ┆ 2021-05-01  ┆ null    ┆ 2.318     ┆ 2412.0     ┆ 5591.01596 ┆ 1          │\n",
              "│            ┆          ┆             ┆         ┆           ┆            ┆ 8          ┆            │\n",
              "│ BOLLERIA   ┆ 5803     ┆ 2021-05-01  ┆ null    ┆ 2.727     ┆ 1422.0     ┆ 3877.79388 ┆ 5          │\n",
              "│            ┆          ┆             ┆         ┆           ┆            ┆ 4          ┆            │\n",
              "│ BOLLERIA   ┆ 6286     ┆ 2021-05-01  ┆ null    ┆ 3.136     ┆ 990.0      ┆ 3104.64003 ┆ 4          │\n",
              "│            ┆          ┆             ┆         ┆           ┆            ┆ 8          ┆            │\n",
              "│ BOLLERIA   ┆ 6425     ┆ 2021-05-01  ┆ null    ┆ 31.364    ┆ 190.349997 ┆ 5970.1325  ┆ 2          │\n",
              "│ …          ┆ …        ┆ …           ┆ …       ┆ …         ┆ …          ┆ …          ┆ …          │\n",
              "│ PASTELERIA ┆ 6523     ┆ 2023-05-17  ┆ null    ┆ 40.772999 ┆ 72.0       ┆ 2935.65600 ┆ 3          │\n",
              "│            ┆          ┆             ┆         ┆           ┆            ┆ 6          ┆            │\n",
              "│ PASTELERIA ┆ 5403     ┆ 2023-05-18  ┆ null    ┆ 40.772999 ┆ 46.800001  ┆ 1908.17404 ┆ 2          │\n",
              "│            ┆          ┆             ┆         ┆           ┆            ┆ 2          ┆            │\n",
              "│ PASTELERIA ┆ 5404     ┆ 2023-05-18  ┆ null    ┆ 43.5      ┆ 108.0      ┆ 4698.0     ┆ 1          │\n",
              "│ PASTELERIA ┆ 6451     ┆ 2023-05-18  ┆ null    ┆ 43.5      ┆ 18.0       ┆ 783.0      ┆ 4          │\n",
              "│ PASTELERIA ┆ 6523     ┆ 2023-05-18  ┆ null    ┆ 40.772999 ┆ 18.0       ┆ 733.914001 ┆ 3          │\n",
              "└────────────┴──────────┴─────────────┴─────────┴───────────┴────────────┴────────────┴────────────┘"
            ]
          },
          "execution_count": 76,
          "metadata": {},
          "output_type": "execute_result"
        }
      ],
      "source": [
        "ventas"
      ]
    },
    {
      "cell_type": "code",
      "execution_count": 77,
      "id": "e35a1153",
      "metadata": {},
      "outputs": [
        {
          "name": "stdout",
          "output_type": "stream",
          "text": [
            "familia: String\n",
            "articulo: Int64\n",
            "fecha_venta: Date\n",
            "festivo: String\n",
            "precio: Float64\n",
            "cantidad: Float64\n",
            "importe: Float64\n",
            "orden_articulo_familia: Int64\n"
          ]
        }
      ],
      "source": [
        "# Voy a realizar una comprobación de los tipos de las columnas (experimentación con Polars)\n",
        "\n",
        "for col, dtype in zip(ventas.columns, ventas.dtypes):\n",
        "    print(f\"{col}: {dtype}\")"
      ]
    },
    {
      "cell_type": "code",
      "execution_count": 78,
      "id": "f6d99682",
      "metadata": {},
      "outputs": [
        {
          "name": "stdout",
          "output_type": "stream",
          "text": [
            "shape: (10,)\n",
            "Series: 'festivo' [str]\n",
            "[\n",
            "\tnull\n",
            "\tnull\n",
            "\tnull\n",
            "\tnull\n",
            "\tnull\n",
            "\t\"Día de la Madre\"\n",
            "\t\"Día de la Madre\"\n",
            "\t\"Día de la Madre\"\n",
            "\t\"Día de la Madre\"\n",
            "\t\"Día de la Madre\"\n",
            "]\n"
          ]
        }
      ],
      "source": [
        "# Compruebo la columna festivo, no recordaba el formato y ahora veo el porqué del \"String\"\n",
        "print(ventas[\"festivo\"].head(10))"
      ]
    },
    {
      "cell_type": "code",
      "execution_count": 79,
      "id": "74508cf5",
      "metadata": {},
      "outputs": [
        {
          "name": "stdout",
          "output_type": "stream",
          "text": [
            "shape: (27, 1)\n",
            "┌─────────────────────────────────┐\n",
            "│ festivo                         │\n",
            "│ ---                             │\n",
            "│ str                             │\n",
            "╞═════════════════════════════════╡\n",
            "│ Lunes Santo                     │\n",
            "│ Día de la Victoria              │\n",
            "│ Día de Todos los Santos         │\n",
            "│ Feria de Málaga                 │\n",
            "│ Domingo de Resurrección         │\n",
            "│ …                               │\n",
            "│ Jueves Santo                    │\n",
            "│ Día de la Hispanidad (Fiesta N… │\n",
            "│ Domingo de Ramos                │\n",
            "│ Año Nuevo                       │\n",
            "│ Día del Padre                   │\n",
            "└─────────────────────────────────┘\n"
          ]
        }
      ],
      "source": [
        "# El método \".select\" sería lo correcto con Polars\n",
        "print(ventas.select(\"festivo\").unique())"
      ]
    },
    {
      "cell_type": "markdown",
      "id": "eb549f7f",
      "metadata": {
        "id": "eb549f7f"
      },
      "source": [
        "## 2. Consulta a [meteostat API](https://dev.meteostat.net/python/daily.html)"
      ]
    },
    {
      "cell_type": "markdown",
      "id": "fa85c73b",
      "metadata": {
        "id": "fa85c73b"
      },
      "source": [
        "Variables que se obtienen:\n",
        "\n",
        "- **tavg** -> The average air temperature in °C\n",
        "- **tmin** -> The minimum air temperature in °C\n",
        "- **tmax** -> The maximum air temperature in °C\n",
        "- **prcp** -> The daily precipitation total in mm\n",
        "- **wdir** -> The average wind direction in degrees (°)\n",
        "- **wspd** -> The average wind speed in km/h\n",
        "- **pres** -> The average sea-level air pressure in hPa"
      ]
    },
    {
      "cell_type": "code",
      "execution_count": 80,
      "id": "fabc87be",
      "metadata": {
        "id": "fabc87be"
      },
      "outputs": [],
      "source": [
        "class DailyWeatherData:\n",
        "\n",
        "    # Localización de la tienda de la Panadería Salvador Echeverría\n",
        "    ECHEVERRIA_SHOP = Point(36.721477644071705, -4.363132134392174)\n",
        "\n",
        "    # Columnas identificadas como importantes\n",
        "    IMP_COLUMNS = ['tavg', 'tmin', 'tmax', 'prcp', 'wdir', 'wspd', 'pres']\n",
        "\n",
        "    # Definición del horizonte temporal de la consulta a la API\n",
        "    def __init__(self, start, end=None):\n",
        "        self.start = DailyWeatherData._to_datetime(start)\n",
        "        if end is not None:\n",
        "            self.end = DailyWeatherData._to_datetime(end)\n",
        "        else:\n",
        "            self.end = datetime.datetime.now()\n",
        "\n",
        "    # He tenido errores de formato datetime.datetime y datetime.date (end y start), con la siguiente función soluciono el problema (creo que es tema de usar Polars)\n",
        "    @staticmethod  # Uso un @staticmethod para llamar la clase directamente sin necesidad de crear un objeto antes\n",
        "    def _to_datetime(dt):\n",
        "        if isinstance(dt, datetime.datetime):\n",
        "            return dt\n",
        "        if isinstance(dt, datetime.date):  # Si es datetime.date, convierto SIEMPRE a datetime.datetime\n",
        "            return datetime.datetime(dt.year, dt.month, dt.day)\n",
        "        if hasattr(dt, \"to_pydatetime\"):  # Por si es Polars\n",
        "            res = dt.to_pydatetime()\n",
        "            # Por si meteostat devuelve date igualmente\n",
        "            if isinstance(res, datetime.date) and not isinstance(res, datetime.datetime):\n",
        "                return datetime.datetime(res.year, res.month, res.day)\n",
        "            return res\n",
        "        raise TypeError(f\"No puedo convertir {dt} a datetime.datetime\")\n",
        "\n",
        "    # Se establece que la consulta será diaria, se seleccionan todas las columnas imps y se añade un suff.\n",
        "    def get_weather_data(self, as_polars=True):   # Añado un argumento extra, recibiré un df de Pandas y tengo que convertirlo a Polars\n",
        "        start_dt = self._to_datetime(self.start)\n",
        "        end_dt = self._to_datetime(self.end)\n",
        "        print(\"start_dt:\", start_dt, type(start_dt))\n",
        "        print(\"end_dt:\", end_dt, type(end_dt))\n",
        "        daily_data = Daily(self.ECHEVERRIA_SHOP, start_dt, end_dt)\n",
        "        data = daily_data.fetch()  # Aquí devuelve un df de Pandas\n",
        "        df = data[self.IMP_COLUMNS]\n",
        "        df.columns = [f\"{col}_w\" for col in df.columns]  # Añado el sufijo para evitar conflictos con algun merge (w=weather)\n",
        "        df = df.reset_index()\n",
        "        # Aquí cambio a Polars\n",
        "        if as_polars:\n",
        "            return pl.from_pandas(df)\n",
        "        else:\n",
        "            return df\n",
        "        \n",
        "        \n"
      ]
    },
    {
      "cell_type": "markdown",
      "id": "7fdd2d3d",
      "metadata": {},
      "source": [
        "### Nota sobre fechas y compatibilidad Polars/Meteostat\n",
        "\n",
        "Al trabajar con **Polars** para el análisis y luego tirar de la API de **Meteostat** para meter datos de tiempo, he tenido que pelearme un poco con los tipos de fecha.\n",
        "\n",
        "- Cuando sacas el mínimo o máximo de una columna de fechas con Polars, lo que te devuelve es un **`datetime.date`**.\n",
        "- Pero la librería Meteostat, para sus consultas, quiere **sí o sí un `datetime.datetime`** (no es lo mismo), porque por dentro resta con `datetime.now()` (que es `datetime.datetime`).\n",
        "\n",
        "¿El resultado si no lo conviertes? Te comes un error del tipo:\n",
        "\n",
        "TypeError: unsupported operand type(s) for -: 'datetime.datetime' and 'datetime.date'\n",
        "\n",
        "Con pandas este problema sale menos, porqué suele devolver un tipo de fecha más compatible, pero aun así puede pasar.  \n",
        "Por eso, lo más seguro es **convertir todo a `datetime.datetime` antes de llamar a Meteostat**, y así te ahorras sustos y funciona todo bien, uses la librería que uses para tus datos.\n",
        "\n",
        "> **Resumen**:  \n",
        "> Si mezclas varias librerías, revisa siempre qué tipo de fecha manejas antes de combinarlas… así te evitas quebraderos de cabeza como este 😉\n",
        "\n"
      ]
    },
    {
      "cell_type": "code",
      "execution_count": 87,
      "id": "7ce75b20",
      "metadata": {},
      "outputs": [
        {
          "name": "stdout",
          "output_type": "stream",
          "text": [
            "2021-05-01\n",
            "2023-05-18\n"
          ]
        }
      ],
      "source": [
        "start_ventas = ventas[\"fecha_venta\"].min()\n",
        "end_ventas = ventas[\"fecha_venta\"].max()\n",
        "\n",
        "print(start_ventas)\n",
        "print(end_ventas)"
      ]
    },
    {
      "cell_type": "code",
      "execution_count": 88,
      "id": "94b6071f",
      "metadata": {},
      "outputs": [
        {
          "name": "stdout",
          "output_type": "stream",
          "text": [
            "start_dt: 2021-05-01 00:00:00 <class 'datetime.datetime'>\n",
            "end_dt: 2023-05-18 00:00:00 <class 'datetime.datetime'>\n"
          ]
        },
        {
          "data": {
            "text/html": [
              "<div><style>\n",
              ".dataframe > thead > tr,\n",
              ".dataframe > tbody > tr {\n",
              "  text-align: right;\n",
              "  white-space: pre-wrap;\n",
              "}\n",
              "</style>\n",
              "<small>shape: (748, 8)</small><table border=\"1\" class=\"dataframe\"><thead><tr><th>time</th><th>tavg_w</th><th>tmin_w</th><th>tmax_w</th><th>prcp_w</th><th>wdir_w</th><th>wspd_w</th><th>pres_w</th></tr><tr><td>datetime[ns]</td><td>f64</td><td>f64</td><td>f64</td><td>f64</td><td>f64</td><td>f64</td><td>f64</td></tr></thead><tbody><tr><td>2021-05-01 00:00:00</td><td>17.2</td><td>11.9</td><td>22.8</td><td>0.0</td><td>null</td><td>14.2</td><td>1014.0</td></tr><tr><td>2021-05-02 00:00:00</td><td>16.3</td><td>10.8</td><td>23.2</td><td>0.0</td><td>null</td><td>15.7</td><td>1015.9</td></tr><tr><td>2021-05-03 00:00:00</td><td>15.3</td><td>12.7</td><td>20.1</td><td>6.5</td><td>null</td><td>9.7</td><td>1017.7</td></tr><tr><td>2021-05-04 00:00:00</td><td>16.5</td><td>12.0</td><td>20.9</td><td>0.0</td><td>null</td><td>12.1</td><td>1018.0</td></tr><tr><td>2021-05-05 00:00:00</td><td>16.7</td><td>12.3</td><td>21.7</td><td>0.0</td><td>null</td><td>13.8</td><td>1016.5</td></tr><tr><td>&hellip;</td><td>&hellip;</td><td>&hellip;</td><td>&hellip;</td><td>&hellip;</td><td>&hellip;</td><td>&hellip;</td><td>&hellip;</td></tr><tr><td>2023-05-14 00:00:00</td><td>19.4</td><td>14.1</td><td>25.5</td><td>0.0</td><td>null</td><td>12.6</td><td>1018.2</td></tr><tr><td>2023-05-15 00:00:00</td><td>23.8</td><td>15.9</td><td>32.0</td><td>0.0</td><td>null</td><td>15.5</td><td>1015.5</td></tr><tr><td>2023-05-16 00:00:00</td><td>22.3</td><td>17.8</td><td>26.2</td><td>0.0</td><td>null</td><td>17.6</td><td>1013.0</td></tr><tr><td>2023-05-17 00:00:00</td><td>19.2</td><td>17.2</td><td>23.0</td><td>0.0</td><td>null</td><td>9.5</td><td>1013.4</td></tr><tr><td>2023-05-18 00:00:00</td><td>17.0</td><td>13.7</td><td>22.3</td><td>13.3</td><td>null</td><td>14.3</td><td>1016.2</td></tr></tbody></table></div>"
            ],
            "text/plain": [
              "shape: (748, 8)\n",
              "┌─────────────────────┬────────┬────────┬────────┬────────┬────────┬────────┬────────┐\n",
              "│ time                ┆ tavg_w ┆ tmin_w ┆ tmax_w ┆ prcp_w ┆ wdir_w ┆ wspd_w ┆ pres_w │\n",
              "│ ---                 ┆ ---    ┆ ---    ┆ ---    ┆ ---    ┆ ---    ┆ ---    ┆ ---    │\n",
              "│ datetime[ns]        ┆ f64    ┆ f64    ┆ f64    ┆ f64    ┆ f64    ┆ f64    ┆ f64    │\n",
              "╞═════════════════════╪════════╪════════╪════════╪════════╪════════╪════════╪════════╡\n",
              "│ 2021-05-01 00:00:00 ┆ 17.2   ┆ 11.9   ┆ 22.8   ┆ 0.0    ┆ null   ┆ 14.2   ┆ 1014.0 │\n",
              "│ 2021-05-02 00:00:00 ┆ 16.3   ┆ 10.8   ┆ 23.2   ┆ 0.0    ┆ null   ┆ 15.7   ┆ 1015.9 │\n",
              "│ 2021-05-03 00:00:00 ┆ 15.3   ┆ 12.7   ┆ 20.1   ┆ 6.5    ┆ null   ┆ 9.7    ┆ 1017.7 │\n",
              "│ 2021-05-04 00:00:00 ┆ 16.5   ┆ 12.0   ┆ 20.9   ┆ 0.0    ┆ null   ┆ 12.1   ┆ 1018.0 │\n",
              "│ 2021-05-05 00:00:00 ┆ 16.7   ┆ 12.3   ┆ 21.7   ┆ 0.0    ┆ null   ┆ 13.8   ┆ 1016.5 │\n",
              "│ …                   ┆ …      ┆ …      ┆ …      ┆ …      ┆ …      ┆ …      ┆ …      │\n",
              "│ 2023-05-14 00:00:00 ┆ 19.4   ┆ 14.1   ┆ 25.5   ┆ 0.0    ┆ null   ┆ 12.6   ┆ 1018.2 │\n",
              "│ 2023-05-15 00:00:00 ┆ 23.8   ┆ 15.9   ┆ 32.0   ┆ 0.0    ┆ null   ┆ 15.5   ┆ 1015.5 │\n",
              "│ 2023-05-16 00:00:00 ┆ 22.3   ┆ 17.8   ┆ 26.2   ┆ 0.0    ┆ null   ┆ 17.6   ┆ 1013.0 │\n",
              "│ 2023-05-17 00:00:00 ┆ 19.2   ┆ 17.2   ┆ 23.0   ┆ 0.0    ┆ null   ┆ 9.5    ┆ 1013.4 │\n",
              "│ 2023-05-18 00:00:00 ┆ 17.0   ┆ 13.7   ┆ 22.3   ┆ 13.3   ┆ null   ┆ 14.3   ┆ 1016.2 │\n",
              "└─────────────────────┴────────┴────────┴────────┴────────┴────────┴────────┴────────┘"
            ]
          },
          "execution_count": 88,
          "metadata": {},
          "output_type": "execute_result"
        }
      ],
      "source": [
        "# Vamos a usar las fechas de inicio y fin dónde haya ventas\n",
        "start_date = datetime.date(2021, 5, 1)\n",
        "end_date = datetime.date(2023, 5, 18)\n",
        "\n",
        "weather_getter = DailyWeatherData(start=start_date, end=end_date)\n",
        "weather = weather_getter.get_weather_data(as_polars=True)\n",
        "weather\n",
        "\n"
      ]
    },
    {
      "cell_type": "code",
      "execution_count": 89,
      "id": "e0880a6b",
      "metadata": {},
      "outputs": [
        {
          "name": "stdout",
          "output_type": "stream",
          "text": [
            "shape: (5, 8)\n",
            "┌─────────────────────┬────────┬────────┬────────┬────────┬────────┬────────┬────────┐\n",
            "│ time                ┆ tavg_w ┆ tmin_w ┆ tmax_w ┆ prcp_w ┆ wdir_w ┆ wspd_w ┆ pres_w │\n",
            "│ ---                 ┆ ---    ┆ ---    ┆ ---    ┆ ---    ┆ ---    ┆ ---    ┆ ---    │\n",
            "│ datetime[ns]        ┆ f64    ┆ f64    ┆ f64    ┆ f64    ┆ f64    ┆ f64    ┆ f64    │\n",
            "╞═════════════════════╪════════╪════════╪════════╪════════╪════════╪════════╪════════╡\n",
            "│ 2021-05-01 00:00:00 ┆ 17.2   ┆ 11.9   ┆ 22.8   ┆ 0.0    ┆ null   ┆ 14.2   ┆ 1014.0 │\n",
            "│ 2021-05-02 00:00:00 ┆ 16.3   ┆ 10.8   ┆ 23.2   ┆ 0.0    ┆ null   ┆ 15.7   ┆ 1015.9 │\n",
            "│ 2021-05-03 00:00:00 ┆ 15.3   ┆ 12.7   ┆ 20.1   ┆ 6.5    ┆ null   ┆ 9.7    ┆ 1017.7 │\n",
            "│ 2021-05-04 00:00:00 ┆ 16.5   ┆ 12.0   ┆ 20.9   ┆ 0.0    ┆ null   ┆ 12.1   ┆ 1018.0 │\n",
            "│ 2021-05-05 00:00:00 ┆ 16.7   ┆ 12.3   ┆ 21.7   ┆ 0.0    ┆ null   ┆ 13.8   ┆ 1016.5 │\n",
            "└─────────────────────┴────────┴────────┴────────┴────────┴────────┴────────┴────────┘\n",
            "shape: (5, 8)\n",
            "┌─────────────────────┬────────┬────────┬────────┬────────┬────────┬────────┬────────┐\n",
            "│ time                ┆ tavg_w ┆ tmin_w ┆ tmax_w ┆ prcp_w ┆ wdir_w ┆ wspd_w ┆ pres_w │\n",
            "│ ---                 ┆ ---    ┆ ---    ┆ ---    ┆ ---    ┆ ---    ┆ ---    ┆ ---    │\n",
            "│ datetime[ns]        ┆ f64    ┆ f64    ┆ f64    ┆ f64    ┆ f64    ┆ f64    ┆ f64    │\n",
            "╞═════════════════════╪════════╪════════╪════════╪════════╪════════╪════════╪════════╡\n",
            "│ 2023-05-14 00:00:00 ┆ 19.4   ┆ 14.1   ┆ 25.5   ┆ 0.0    ┆ null   ┆ 12.6   ┆ 1018.2 │\n",
            "│ 2023-05-15 00:00:00 ┆ 23.8   ┆ 15.9   ┆ 32.0   ┆ 0.0    ┆ null   ┆ 15.5   ┆ 1015.5 │\n",
            "│ 2023-05-16 00:00:00 ┆ 22.3   ┆ 17.8   ┆ 26.2   ┆ 0.0    ┆ null   ┆ 17.6   ┆ 1013.0 │\n",
            "│ 2023-05-17 00:00:00 ┆ 19.2   ┆ 17.2   ┆ 23.0   ┆ 0.0    ┆ null   ┆ 9.5    ┆ 1013.4 │\n",
            "│ 2023-05-18 00:00:00 ┆ 17.0   ┆ 13.7   ┆ 22.3   ┆ 13.3   ┆ null   ┆ 14.3   ┆ 1016.2 │\n",
            "└─────────────────────┴────────┴────────┴────────┴────────┴────────┴────────┴────────┘\n"
          ]
        }
      ],
      "source": [
        "print(weather.head(5))\n",
        "print(weather.tail(5))"
      ]
    },
    {
      "cell_type": "code",
      "execution_count": null,
      "id": "527af52d",
      "metadata": {
        "colab": {
          "base_uri": "https://localhost:8080/",
          "height": 335
        },
        "id": "527af52d",
        "outputId": "bf304719-d9f1-4dfd-a8e6-259cd24b1346"
      },
      "outputs": [
        {
          "name": "stdout",
          "output_type": "stream",
          "text": [
            "shape: (1, 8)\n",
            "┌──────┬────────┬────────┬────────┬────────┬────────┬────────┬────────┐\n",
            "│ time ┆ tavg_w ┆ tmin_w ┆ tmax_w ┆ prcp_w ┆ wdir_w ┆ wspd_w ┆ pres_w │\n",
            "│ ---  ┆ ---    ┆ ---    ┆ ---    ┆ ---    ┆ ---    ┆ ---    ┆ ---    │\n",
            "│ u32  ┆ u32    ┆ u32    ┆ u32    ┆ u32    ┆ u32    ┆ u32    ┆ u32    │\n",
            "╞══════╪════════╪════════╪════════╪════════╪════════╪════════╪════════╡\n",
            "│ 0    ┆ 0      ┆ 0      ┆ 0      ┆ 7      ┆ 748    ┆ 0      ┆ 0      │\n",
            "└──────┴────────┴────────┴────────┴────────┴────────┴────────┴────────┘\n"
          ]
        }
      ],
      "source": [
        "# Para ver los nulos con Polars es algo más complejo, esta es la metodología\n",
        "nulls_column = weather.select([\n",
        "    pl.col(col).null_count().alias(col) for col in weather.columns\n",
        "    ])\n",
        "\n",
        "print(nulls_column)\n"
      ]
    },
    {
      "cell_type": "code",
      "execution_count": null,
      "id": "b6c2df61",
      "metadata": {},
      "outputs": [
        {
          "name": "stdout",
          "output_type": "stream",
          "text": [
            "shape: (748, 8)\n",
            "┌─────────────────────┬────────┬────────┬────────┬────────┬────────┬────────┬────────┐\n",
            "│ time                ┆ tavg_w ┆ tmin_w ┆ tmax_w ┆ prcp_w ┆ wdir_w ┆ wspd_w ┆ pres_w │\n",
            "│ ---                 ┆ ---    ┆ ---    ┆ ---    ┆ ---    ┆ ---    ┆ ---    ┆ ---    │\n",
            "│ datetime[ns]        ┆ f64    ┆ f64    ┆ f64    ┆ f64    ┆ f64    ┆ f64    ┆ f64    │\n",
            "╞═════════════════════╪════════╪════════╪════════╪════════╪════════╪════════╪════════╡\n",
            "│ 2021-05-01 00:00:00 ┆ 17.2   ┆ 11.9   ┆ 22.8   ┆ 0.0    ┆ null   ┆ 14.2   ┆ 1014.0 │\n",
            "│ 2021-05-02 00:00:00 ┆ 16.3   ┆ 10.8   ┆ 23.2   ┆ 0.0    ┆ null   ┆ 15.7   ┆ 1015.9 │\n",
            "│ 2021-05-03 00:00:00 ┆ 15.3   ┆ 12.7   ┆ 20.1   ┆ 6.5    ┆ null   ┆ 9.7    ┆ 1017.7 │\n",
            "│ 2021-05-04 00:00:00 ┆ 16.5   ┆ 12.0   ┆ 20.9   ┆ 0.0    ┆ null   ┆ 12.1   ┆ 1018.0 │\n",
            "│ 2021-05-05 00:00:00 ┆ 16.7   ┆ 12.3   ┆ 21.7   ┆ 0.0    ┆ null   ┆ 13.8   ┆ 1016.5 │\n",
            "│ …                   ┆ …      ┆ …      ┆ …      ┆ …      ┆ …      ┆ …      ┆ …      │\n",
            "│ 2023-05-14 00:00:00 ┆ 19.4   ┆ 14.1   ┆ 25.5   ┆ 0.0    ┆ null   ┆ 12.6   ┆ 1018.2 │\n",
            "│ 2023-05-15 00:00:00 ┆ 23.8   ┆ 15.9   ┆ 32.0   ┆ 0.0    ┆ null   ┆ 15.5   ┆ 1015.5 │\n",
            "│ 2023-05-16 00:00:00 ┆ 22.3   ┆ 17.8   ┆ 26.2   ┆ 0.0    ┆ null   ┆ 17.6   ┆ 1013.0 │\n",
            "│ 2023-05-17 00:00:00 ┆ 19.2   ┆ 17.2   ┆ 23.0   ┆ 0.0    ┆ null   ┆ 9.5    ┆ 1013.4 │\n",
            "│ 2023-05-18 00:00:00 ┆ 17.0   ┆ 13.7   ┆ 22.3   ┆ 13.3   ┆ null   ┆ 14.3   ┆ 1016.2 │\n",
            "└─────────────────────┴────────┴────────┴────────┴────────┴────────┴────────┴────────┘\n"
          ]
        }
      ],
      "source": [
        "# Días en qué hay valores nulos\n",
        "days_with_nulls = weather.filter(\n",
        "    pl.any_horizontal([pl.col(c).is_null() for c in weather.columns])\n",
        "    )\n",
        "print(days_with_nulls)\n",
        "\n",
        "# Se entiende que todos, ya que la dirección del viento es nula en todas las filas"
      ]
    },
    {
      "cell_type": "code",
      "execution_count": null,
      "id": "b828c46b",
      "metadata": {},
      "outputs": [
        {
          "name": "stdout",
          "output_type": "stream",
          "text": [
            "shape: (7, 2)\n",
            "┌─────────────────────┬────────┐\n",
            "│ time                ┆ prcp_w │\n",
            "│ ---                 ┆ ---    │\n",
            "│ datetime[ns]        ┆ f64    │\n",
            "╞═════════════════════╪════════╡\n",
            "│ 2021-10-26 00:00:00 ┆ null   │\n",
            "│ 2021-10-30 00:00:00 ┆ null   │\n",
            "│ 2022-01-27 00:00:00 ┆ null   │\n",
            "│ 2022-02-28 00:00:00 ┆ null   │\n",
            "│ 2022-03-05 00:00:00 ┆ null   │\n",
            "│ 2022-04-26 00:00:00 ┆ null   │\n",
            "│ 2022-04-27 00:00:00 ┆ null   │\n",
            "└─────────────────────┴────────┘\n"
          ]
        }
      ],
      "source": [
        "# Fechas específicas dónde hay valores nulos en \"prcp_w\"\n",
        "prcp_null = weather.filter(pl.col(\"prcp_w\").is_null())  \n",
        "print(prcp_null[[\"time\", \"prcp_w\"]])\n"
      ]
    },
    {
      "cell_type": "code",
      "execution_count": null,
      "id": "5851867f",
      "metadata": {},
      "outputs": [
        {
          "name": "stdout",
          "output_type": "stream",
          "text": [
            "shape: (7, 8)\n",
            "┌─────────────────────┬────────┬────────┬────────┬────────┬────────┬────────┬────────┐\n",
            "│ time                ┆ tavg_w ┆ tmin_w ┆ tmax_w ┆ prcp_w ┆ wdir_w ┆ wspd_w ┆ pres_w │\n",
            "│ ---                 ┆ ---    ┆ ---    ┆ ---    ┆ ---    ┆ ---    ┆ ---    ┆ ---    │\n",
            "│ datetime[ns]        ┆ f64    ┆ f64    ┆ f64    ┆ f64    ┆ f64    ┆ f64    ┆ f64    │\n",
            "╞═════════════════════╪════════╪════════╪════════╪════════╪════════╪════════╪════════╡\n",
            "│ 2021-10-26 00:00:00 ┆ 18.3   ┆ 15.6   ┆ 24.1   ┆ null   ┆ null   ┆ 9.6    ┆ 1020.4 │\n",
            "│ 2021-10-30 00:00:00 ┆ 21.8   ┆ 17.6   ┆ 26.8   ┆ null   ┆ null   ┆ 6.8    ┆ 1014.6 │\n",
            "│ 2022-01-27 00:00:00 ┆ 15.2   ┆ 14.0   ┆ 16.3   ┆ null   ┆ null   ┆ 29.2   ┆ 1024.9 │\n",
            "│ 2022-02-28 00:00:00 ┆ 13.6   ┆ 10.9   ┆ 17.0   ┆ null   ┆ null   ┆ 9.6    ┆ 1026.8 │\n",
            "│ 2022-03-05 00:00:00 ┆ 13.9   ┆ 7.9    ┆ 19.2   ┆ null   ┆ null   ┆ 12.4   ┆ 1016.2 │\n",
            "│ 2022-04-26 00:00:00 ┆ 16.3   ┆ 13.5   ┆ 21.4   ┆ null   ┆ null   ┆ 8.7    ┆ 1013.8 │\n",
            "│ 2022-04-27 00:00:00 ┆ 16.2   ┆ 12.3   ┆ 22.9   ┆ null   ┆ null   ┆ 12.2   ┆ 1016.7 │\n",
            "└─────────────────────┴────────┴────────┴────────┴────────┴────────┴────────┴────────┘\n"
          ]
        }
      ],
      "source": [
        "# Vemos todas las columnas de los días dónde las precipitaciones són nulas\n",
        "print(prcp_null)"
      ]
    },
    {
      "cell_type": "code",
      "execution_count": null,
      "id": "3FBiFh8wnPXf",
      "metadata": {
        "colab": {
          "base_uri": "https://localhost:8080/"
        },
        "id": "3FBiFh8wnPXf",
        "outputId": "709eb88c-079f-488d-86fd-7ed751dddabb"
      },
      "outputs": [],
      "source": [
        "# Ruta para guardar archivos de datos ya procesados\n",
        "PROCESSED_DATA_DIR = r\"d:\\PersonalProjects\\Panadería Datathon\\data\\processed\"\n",
        "\n",
        "# Voy a convertir el archivo a csv también, ya que Polars tiene método directo\n",
        "weather.write_csv(os.path.join(PROCESSED_DATA_DIR, \"variables_meteorologicas.csv\"))\n",
        "\n",
        "# En Polars no hay método directo para convertir a Excel\n",
        "weather_pandas = weather.to_pandas()\n",
        "\n",
        "weather_pandas.to_excel(os.path.join(PROCESSED_DATA_DIR, \"variables_meteorologicas.xlsx\"))\n",
        "\n"
      ]
    },
    {
      "cell_type": "markdown",
      "id": "35118308",
      "metadata": {
        "id": "35118308"
      },
      "source": [
        "## 3. Join -> Datos de ventas y del tiempo"
      ]
    },
    {
      "cell_type": "code",
      "execution_count": 104,
      "id": "e367fe09",
      "metadata": {},
      "outputs": [
        {
          "data": {
            "text/html": [
              "<div><style>\n",
              ".dataframe > thead > tr,\n",
              ".dataframe > tbody > tr {\n",
              "  text-align: right;\n",
              "  white-space: pre-wrap;\n",
              "}\n",
              "</style>\n",
              "<small>shape: (10_574, 8)</small><table border=\"1\" class=\"dataframe\"><thead><tr><th>familia</th><th>articulo</th><th>fecha_venta</th><th>festivo</th><th>precio</th><th>cantidad</th><th>importe</th><th>orden_articulo_familia</th></tr><tr><td>str</td><td>i64</td><td>date</td><td>str</td><td>f64</td><td>f64</td><td>f64</td><td>i64</td></tr></thead><tbody><tr><td>&quot;BOLLERIA&quot;</td><td>3880</td><td>2021-05-01</td><td>null</td><td>2.591</td><td>1710.0</td><td>4430.609985</td><td>3</td></tr><tr><td>&quot;BOLLERIA&quot;</td><td>3960</td><td>2021-05-01</td><td>null</td><td>2.318</td><td>2412.0</td><td>5591.015968</td><td>1</td></tr><tr><td>&quot;BOLLERIA&quot;</td><td>5803</td><td>2021-05-01</td><td>null</td><td>2.727</td><td>1422.0</td><td>3877.793884</td><td>5</td></tr><tr><td>&quot;BOLLERIA&quot;</td><td>6286</td><td>2021-05-01</td><td>null</td><td>3.136</td><td>990.0</td><td>3104.640038</td><td>4</td></tr><tr><td>&quot;BOLLERIA&quot;</td><td>6425</td><td>2021-05-01</td><td>null</td><td>31.364</td><td>190.349997</td><td>5970.1325</td><td>2</td></tr><tr><td>&hellip;</td><td>&hellip;</td><td>&hellip;</td><td>&hellip;</td><td>&hellip;</td><td>&hellip;</td><td>&hellip;</td><td>&hellip;</td></tr><tr><td>&quot;PASTELERIA&quot;</td><td>6523</td><td>2023-05-17</td><td>null</td><td>40.772999</td><td>72.0</td><td>2935.656006</td><td>3</td></tr><tr><td>&quot;PASTELERIA&quot;</td><td>5403</td><td>2023-05-18</td><td>null</td><td>40.772999</td><td>46.800001</td><td>1908.174042</td><td>2</td></tr><tr><td>&quot;PASTELERIA&quot;</td><td>5404</td><td>2023-05-18</td><td>null</td><td>43.5</td><td>108.0</td><td>4698.0</td><td>1</td></tr><tr><td>&quot;PASTELERIA&quot;</td><td>6451</td><td>2023-05-18</td><td>null</td><td>43.5</td><td>18.0</td><td>783.0</td><td>4</td></tr><tr><td>&quot;PASTELERIA&quot;</td><td>6523</td><td>2023-05-18</td><td>null</td><td>40.772999</td><td>18.0</td><td>733.914001</td><td>3</td></tr></tbody></table></div>"
            ],
            "text/plain": [
              "shape: (10_574, 8)\n",
              "┌────────────┬──────────┬─────────────┬─────────┬───────────┬────────────┬────────────┬────────────┐\n",
              "│ familia    ┆ articulo ┆ fecha_venta ┆ festivo ┆ precio    ┆ cantidad   ┆ importe    ┆ orden_arti │\n",
              "│ ---        ┆ ---      ┆ ---         ┆ ---     ┆ ---       ┆ ---        ┆ ---        ┆ culo_famil │\n",
              "│ str        ┆ i64      ┆ date        ┆ str     ┆ f64       ┆ f64        ┆ f64        ┆ ia         │\n",
              "│            ┆          ┆             ┆         ┆           ┆            ┆            ┆ ---        │\n",
              "│            ┆          ┆             ┆         ┆           ┆            ┆            ┆ i64        │\n",
              "╞════════════╪══════════╪═════════════╪═════════╪═══════════╪════════════╪════════════╪════════════╡\n",
              "│ BOLLERIA   ┆ 3880     ┆ 2021-05-01  ┆ null    ┆ 2.591     ┆ 1710.0     ┆ 4430.60998 ┆ 3          │\n",
              "│            ┆          ┆             ┆         ┆           ┆            ┆ 5          ┆            │\n",
              "│ BOLLERIA   ┆ 3960     ┆ 2021-05-01  ┆ null    ┆ 2.318     ┆ 2412.0     ┆ 5591.01596 ┆ 1          │\n",
              "│            ┆          ┆             ┆         ┆           ┆            ┆ 8          ┆            │\n",
              "│ BOLLERIA   ┆ 5803     ┆ 2021-05-01  ┆ null    ┆ 2.727     ┆ 1422.0     ┆ 3877.79388 ┆ 5          │\n",
              "│            ┆          ┆             ┆         ┆           ┆            ┆ 4          ┆            │\n",
              "│ BOLLERIA   ┆ 6286     ┆ 2021-05-01  ┆ null    ┆ 3.136     ┆ 990.0      ┆ 3104.64003 ┆ 4          │\n",
              "│            ┆          ┆             ┆         ┆           ┆            ┆ 8          ┆            │\n",
              "│ BOLLERIA   ┆ 6425     ┆ 2021-05-01  ┆ null    ┆ 31.364    ┆ 190.349997 ┆ 5970.1325  ┆ 2          │\n",
              "│ …          ┆ …        ┆ …           ┆ …       ┆ …         ┆ …          ┆ …          ┆ …          │\n",
              "│ PASTELERIA ┆ 6523     ┆ 2023-05-17  ┆ null    ┆ 40.772999 ┆ 72.0       ┆ 2935.65600 ┆ 3          │\n",
              "│            ┆          ┆             ┆         ┆           ┆            ┆ 6          ┆            │\n",
              "│ PASTELERIA ┆ 5403     ┆ 2023-05-18  ┆ null    ┆ 40.772999 ┆ 46.800001  ┆ 1908.17404 ┆ 2          │\n",
              "│            ┆          ┆             ┆         ┆           ┆            ┆ 2          ┆            │\n",
              "│ PASTELERIA ┆ 5404     ┆ 2023-05-18  ┆ null    ┆ 43.5      ┆ 108.0      ┆ 4698.0     ┆ 1          │\n",
              "│ PASTELERIA ┆ 6451     ┆ 2023-05-18  ┆ null    ┆ 43.5      ┆ 18.0       ┆ 783.0      ┆ 4          │\n",
              "│ PASTELERIA ┆ 6523     ┆ 2023-05-18  ┆ null    ┆ 40.772999 ┆ 18.0       ┆ 733.914001 ┆ 3          │\n",
              "└────────────┴──────────┴─────────────┴─────────┴───────────┴────────────┴────────────┴────────────┘"
            ]
          },
          "execution_count": 104,
          "metadata": {},
          "output_type": "execute_result"
        }
      ],
      "source": [
        "ventas"
      ]
    },
    {
      "cell_type": "code",
      "execution_count": 108,
      "id": "d441096a",
      "metadata": {},
      "outputs": [
        {
          "data": {
            "text/html": [
              "<div><style>\n",
              ".dataframe > thead > tr,\n",
              ".dataframe > tbody > tr {\n",
              "  text-align: right;\n",
              "  white-space: pre-wrap;\n",
              "}\n",
              "</style>\n",
              "<small>shape: (748, 8)</small><table border=\"1\" class=\"dataframe\"><thead><tr><th>time</th><th>tavg_w</th><th>tmin_w</th><th>tmax_w</th><th>prcp_w</th><th>wdir_w</th><th>wspd_w</th><th>pres_w</th></tr><tr><td>date</td><td>f64</td><td>f64</td><td>f64</td><td>f64</td><td>f64</td><td>f64</td><td>f64</td></tr></thead><tbody><tr><td>2021-05-01</td><td>17.2</td><td>11.9</td><td>22.8</td><td>0.0</td><td>null</td><td>14.2</td><td>1014.0</td></tr><tr><td>2021-05-02</td><td>16.3</td><td>10.8</td><td>23.2</td><td>0.0</td><td>null</td><td>15.7</td><td>1015.9</td></tr><tr><td>2021-05-03</td><td>15.3</td><td>12.7</td><td>20.1</td><td>6.5</td><td>null</td><td>9.7</td><td>1017.7</td></tr><tr><td>2021-05-04</td><td>16.5</td><td>12.0</td><td>20.9</td><td>0.0</td><td>null</td><td>12.1</td><td>1018.0</td></tr><tr><td>2021-05-05</td><td>16.7</td><td>12.3</td><td>21.7</td><td>0.0</td><td>null</td><td>13.8</td><td>1016.5</td></tr><tr><td>&hellip;</td><td>&hellip;</td><td>&hellip;</td><td>&hellip;</td><td>&hellip;</td><td>&hellip;</td><td>&hellip;</td><td>&hellip;</td></tr><tr><td>2023-05-14</td><td>19.4</td><td>14.1</td><td>25.5</td><td>0.0</td><td>null</td><td>12.6</td><td>1018.2</td></tr><tr><td>2023-05-15</td><td>23.8</td><td>15.9</td><td>32.0</td><td>0.0</td><td>null</td><td>15.5</td><td>1015.5</td></tr><tr><td>2023-05-16</td><td>22.3</td><td>17.8</td><td>26.2</td><td>0.0</td><td>null</td><td>17.6</td><td>1013.0</td></tr><tr><td>2023-05-17</td><td>19.2</td><td>17.2</td><td>23.0</td><td>0.0</td><td>null</td><td>9.5</td><td>1013.4</td></tr><tr><td>2023-05-18</td><td>17.0</td><td>13.7</td><td>22.3</td><td>13.3</td><td>null</td><td>14.3</td><td>1016.2</td></tr></tbody></table></div>"
            ],
            "text/plain": [
              "shape: (748, 8)\n",
              "┌────────────┬────────┬────────┬────────┬────────┬────────┬────────┬────────┐\n",
              "│ time       ┆ tavg_w ┆ tmin_w ┆ tmax_w ┆ prcp_w ┆ wdir_w ┆ wspd_w ┆ pres_w │\n",
              "│ ---        ┆ ---    ┆ ---    ┆ ---    ┆ ---    ┆ ---    ┆ ---    ┆ ---    │\n",
              "│ date       ┆ f64    ┆ f64    ┆ f64    ┆ f64    ┆ f64    ┆ f64    ┆ f64    │\n",
              "╞════════════╪════════╪════════╪════════╪════════╪════════╪════════╪════════╡\n",
              "│ 2021-05-01 ┆ 17.2   ┆ 11.9   ┆ 22.8   ┆ 0.0    ┆ null   ┆ 14.2   ┆ 1014.0 │\n",
              "│ 2021-05-02 ┆ 16.3   ┆ 10.8   ┆ 23.2   ┆ 0.0    ┆ null   ┆ 15.7   ┆ 1015.9 │\n",
              "│ 2021-05-03 ┆ 15.3   ┆ 12.7   ┆ 20.1   ┆ 6.5    ┆ null   ┆ 9.7    ┆ 1017.7 │\n",
              "│ 2021-05-04 ┆ 16.5   ┆ 12.0   ┆ 20.9   ┆ 0.0    ┆ null   ┆ 12.1   ┆ 1018.0 │\n",
              "│ 2021-05-05 ┆ 16.7   ┆ 12.3   ┆ 21.7   ┆ 0.0    ┆ null   ┆ 13.8   ┆ 1016.5 │\n",
              "│ …          ┆ …      ┆ …      ┆ …      ┆ …      ┆ …      ┆ …      ┆ …      │\n",
              "│ 2023-05-14 ┆ 19.4   ┆ 14.1   ┆ 25.5   ┆ 0.0    ┆ null   ┆ 12.6   ┆ 1018.2 │\n",
              "│ 2023-05-15 ┆ 23.8   ┆ 15.9   ┆ 32.0   ┆ 0.0    ┆ null   ┆ 15.5   ┆ 1015.5 │\n",
              "│ 2023-05-16 ┆ 22.3   ┆ 17.8   ┆ 26.2   ┆ 0.0    ┆ null   ┆ 17.6   ┆ 1013.0 │\n",
              "│ 2023-05-17 ┆ 19.2   ┆ 17.2   ┆ 23.0   ┆ 0.0    ┆ null   ┆ 9.5    ┆ 1013.4 │\n",
              "│ 2023-05-18 ┆ 17.0   ┆ 13.7   ┆ 22.3   ┆ 13.3   ┆ null   ┆ 14.3   ┆ 1016.2 │\n",
              "└────────────┴────────┴────────┴────────┴────────┴────────┴────────┴────────┘"
            ]
          },
          "execution_count": 108,
          "metadata": {},
          "output_type": "execute_result"
        }
      ],
      "source": [
        "weather"
      ]
    },
    {
      "cell_type": "code",
      "execution_count": null,
      "id": "f8f9648e",
      "metadata": {},
      "outputs": [
        {
          "data": {
            "text/html": [
              "<div><style>\n",
              ".dataframe > thead > tr,\n",
              ".dataframe > tbody > tr {\n",
              "  text-align: right;\n",
              "  white-space: pre-wrap;\n",
              "}\n",
              "</style>\n",
              "<small>shape: (5, 15)</small><table border=\"1\" class=\"dataframe\"><thead><tr><th>familia</th><th>articulo</th><th>fecha_venta</th><th>festivo</th><th>precio</th><th>cantidad</th><th>importe</th><th>orden_articulo_familia</th><th>tavg_w</th><th>tmin_w</th><th>tmax_w</th><th>prcp_w</th><th>wdir_w</th><th>wspd_w</th><th>pres_w</th></tr><tr><td>str</td><td>i64</td><td>date</td><td>str</td><td>f64</td><td>f64</td><td>f64</td><td>i64</td><td>f64</td><td>f64</td><td>f64</td><td>f64</td><td>f64</td><td>f64</td><td>f64</td></tr></thead><tbody><tr><td>&quot;PANADERIA&quot;</td><td>417</td><td>2021-05-01</td><td>null</td><td>4.038</td><td>432.0</td><td>1744.416023</td><td>5</td><td>17.2</td><td>11.9</td><td>22.8</td><td>0.0</td><td>null</td><td>14.2</td><td>1014.0</td></tr><tr><td>&quot;PANADERIA&quot;</td><td>417</td><td>2021-05-02</td><td>&quot;Día de la Madre&quot;</td><td>4.038</td><td>486.0</td><td>1962.467972</td><td>5</td><td>16.3</td><td>10.8</td><td>23.2</td><td>0.0</td><td>null</td><td>15.7</td><td>1015.9</td></tr><tr><td>&quot;PANADERIA&quot;</td><td>417</td><td>2021-05-03</td><td>&quot;Día de la Cruz&quot;</td><td>4.038</td><td>540.0</td><td>2180.519989</td><td>5</td><td>15.3</td><td>12.7</td><td>20.1</td><td>6.5</td><td>null</td><td>9.7</td><td>1017.7</td></tr><tr><td>&quot;PANADERIA&quot;</td><td>417</td><td>2021-05-04</td><td>null</td><td>4.038</td><td>504.0</td><td>2035.152008</td><td>5</td><td>16.5</td><td>12.0</td><td>20.9</td><td>0.0</td><td>null</td><td>12.1</td><td>1018.0</td></tr><tr><td>&quot;PANADERIA&quot;</td><td>417</td><td>2021-05-05</td><td>null</td><td>4.038</td><td>504.0</td><td>2035.15202</td><td>5</td><td>16.7</td><td>12.3</td><td>21.7</td><td>0.0</td><td>null</td><td>13.8</td><td>1016.5</td></tr></tbody></table></div>"
            ],
            "text/plain": [
              "shape: (5, 15)\n",
              "┌───────────┬──────────┬─────────────┬─────────────────┬───┬────────┬────────┬────────┬────────┐\n",
              "│ familia   ┆ articulo ┆ fecha_venta ┆ festivo         ┆ … ┆ prcp_w ┆ wdir_w ┆ wspd_w ┆ pres_w │\n",
              "│ ---       ┆ ---      ┆ ---         ┆ ---             ┆   ┆ ---    ┆ ---    ┆ ---    ┆ ---    │\n",
              "│ str       ┆ i64      ┆ date        ┆ str             ┆   ┆ f64    ┆ f64    ┆ f64    ┆ f64    │\n",
              "╞═══════════╪══════════╪═════════════╪═════════════════╪═══╪════════╪════════╪════════╪════════╡\n",
              "│ PANADERIA ┆ 417      ┆ 2021-05-01  ┆ null            ┆ … ┆ 0.0    ┆ null   ┆ 14.2   ┆ 1014.0 │\n",
              "│ PANADERIA ┆ 417      ┆ 2021-05-02  ┆ Día de la Madre ┆ … ┆ 0.0    ┆ null   ┆ 15.7   ┆ 1015.9 │\n",
              "│ PANADERIA ┆ 417      ┆ 2021-05-03  ┆ Día de la Cruz  ┆ … ┆ 6.5    ┆ null   ┆ 9.7    ┆ 1017.7 │\n",
              "│ PANADERIA ┆ 417      ┆ 2021-05-04  ┆ null            ┆ … ┆ 0.0    ┆ null   ┆ 12.1   ┆ 1018.0 │\n",
              "│ PANADERIA ┆ 417      ┆ 2021-05-05  ┆ null            ┆ … ┆ 0.0    ┆ null   ┆ 13.8   ┆ 1016.5 │\n",
              "└───────────┴──────────┴─────────────┴─────────────────┴───┴────────┴────────┴────────┴────────┘"
            ]
          },
          "execution_count": 110,
          "metadata": {},
          "output_type": "execute_result"
        }
      ],
      "source": [
        "# Las columnas de join tienen que tener el mismo tipo, \"fecha_venta\" y \"time\"\n",
        "ventas = ventas.with_columns(pl.col(\"fecha_venta\").cast(pl.Date))\n",
        "\n",
        "# El método .cast en Polars, convierte las columnas en el tipo que le indicamos\n",
        "weather = weather.with_columns(pl.col(\"time\").cast(pl.Date))\n",
        "\n",
        "df_join = ventas.join(\n",
        "    weather,\n",
        "    left_on=\"fecha_venta\",\n",
        "    right_on=\"time\",\n",
        "    how=\"inner\"\n",
        ")\n",
        "\n",
        "    \n",
        "\n",
        "# Ordenar el df por \"articulo\" y la \"fecha_venta\"\n",
        "df = df_join.sort([\"articulo\", \"fecha_venta\"])\n",
        "df.head(5)"
      ]
    },
    {
      "cell_type": "markdown",
      "id": "0d3633de",
      "metadata": {
        "id": "0d3633de"
      },
      "source": [
        "## 4. EDA"
      ]
    },
    {
      "cell_type": "markdown",
      "id": "e7dfba76",
      "metadata": {
        "id": "e7dfba76"
      },
      "source": [
        "******"
      ]
    },
    {
      "cell_type": "markdown",
      "id": "a0e705ea",
      "metadata": {
        "id": "a0e705ea"
      },
      "source": [
        "#### 4.1. Inspección inicial"
      ]
    },
    {
      "cell_type": "markdown",
      "id": "a130397f",
      "metadata": {
        "id": "a130397f"
      },
      "source": [
        "Este apartado tiene como cometido comprender la estructura del conjunto de datos y ver posibles problemas de calidad que podrían afectar al análisis."
      ]
    },
    {
      "cell_type": "markdown",
      "id": "037c3c1d",
      "metadata": {
        "id": "037c3c1d"
      },
      "source": [
        "**Grupo de preguntas 1** (x minutos):"
      ]
    },
    {
      "cell_type": "markdown",
      "id": "64706335",
      "metadata": {
        "id": "64706335"
      },
      "source": [
        "1. Describe que significa cada fila de nuestro conjunto de datos.\n",
        "\n",
        "2. ¿Cuántos valores únicos hay en cada una de las variables? ¿Qué insight podrías observar al comparar los valores únicos de la variable \"articulo\" con los valores únicos de la variable \"precio\"?\n",
        "\n",
        "3. ¿Cuántos valores nulos hay en cada una de las variables?\n",
        "\n",
        "4. ¿Hay duplicados?"
      ]
    },
    {
      "cell_type": "code",
      "execution_count": null,
      "id": "CjP_WND3N5vt",
      "metadata": {
        "colab": {
          "base_uri": "https://localhost:8080/",
          "height": 449
        },
        "id": "CjP_WND3N5vt",
        "outputId": "97d4170d-1834-4600-e7c8-f564693ebe4e"
      },
      "outputs": [],
      "source": [
        "# 2\n",
        "df.describe(include='all')"
      ]
    },
    {
      "cell_type": "code",
      "execution_count": null,
      "id": "9JBwLplwxGiq",
      "metadata": {
        "id": "9JBwLplwxGiq"
      },
      "outputs": [],
      "source": [
        "df['familia'] = df['familia'].astype(str)\n",
        "df['festivo'] = df['festivo'].astype(str)"
      ]
    },
    {
      "cell_type": "code",
      "execution_count": null,
      "id": "Z-jgfOS3N5lJ",
      "metadata": {
        "id": "Z-jgfOS3N5lJ"
      },
      "outputs": [],
      "source": [
        "# 2\n",
        "# La diferencia entre el número único de artículos y de precios muestra que los precios cambian a lo largo del tiempo\n",
        "summary = (\n",
        "    df.dtypes.to_frame(\"Tipo\")\n",
        "    .assign(Cardinalidad = df.nunique())\n",
        "    .assign(Granularidad = df.nunique() / len(df) * 100)\n",
        "    .assign(Nulos_Pct = df.isnull().sum() / len(df) * 100)\n",
        "    # .assign(Max = df.dropna().apply(max))\n",
        "    # .assign(Min = df.dropna().apply(min))\n",
        "    # .sort_values([\"Tipo\"])\n",
        ")"
      ]
    },
    {
      "cell_type": "code",
      "execution_count": null,
      "id": "mpFSaUWgthET",
      "metadata": {
        "id": "mpFSaUWgthET"
      },
      "outputs": [],
      "source": [
        "# Calcular máximos y mínimos por separado y unirlos\n",
        "max_vals = df.max(numeric_only=False).rename(\"Max\")\n",
        "min_vals = df.min(numeric_only=False).rename(\"Min\")\n",
        "\n",
        "# Unir todo\n",
        "summary = summary.join([max_vals, min_vals])\n",
        "\n"
      ]
    },
    {
      "cell_type": "code",
      "execution_count": null,
      "id": "VgAAzO0Txff6",
      "metadata": {
        "colab": {
          "base_uri": "https://localhost:8080/",
          "height": 537
        },
        "id": "VgAAzO0Txff6",
        "outputId": "725e0ba1-47c6-4147-99cb-45d57b7f5044"
      },
      "outputs": [],
      "source": [
        "summary.sort_values(\"Tipo\", key=lambda col: col.astype(str))"
      ]
    },
    {
      "cell_type": "code",
      "execution_count": null,
      "id": "1VEONbJON5bC",
      "metadata": {
        "colab": {
          "base_uri": "https://localhost:8080/",
          "height": 428
        },
        "id": "1VEONbJON5bC",
        "outputId": "dee28137-7f46-4326-d7ba-463441a61579"
      },
      "outputs": [],
      "source": [
        "# 3\n",
        "# Valores nulos\n",
        "\n",
        "msno.matrix(df)"
      ]
    },
    {
      "cell_type": "code",
      "execution_count": null,
      "id": "7wLwtqsLN5IW",
      "metadata": {
        "colab": {
          "base_uri": "https://localhost:8080/",
          "height": 73
        },
        "id": "7wLwtqsLN5IW",
        "outputId": "dd8c03e4-4728-4b77-c8fd-67b7f369d3dc"
      },
      "outputs": [],
      "source": [
        "# 4\n",
        "# Valores duplicados\n",
        "\n",
        "df[df.duplicated(['fecha_venta', 'articulo'], keep=False)]\n",
        "#df.drop_duplicates(['fecha_venta', 'articulo'])"
      ]
    },
    {
      "cell_type": "markdown",
      "id": "0345a801",
      "metadata": {
        "id": "0345a801"
      },
      "source": [
        "**Grupo de preguntas 2** (x minutos):"
      ]
    },
    {
      "cell_type": "markdown",
      "id": "7840692e",
      "metadata": {
        "id": "7840692e"
      },
      "source": [
        "5. ¿Cuál es el rango de fechas de nuestro conjunto de datos? Si se divide por producto, ¿hay fechas faltantes? Crea un gráfico de evolución temporal para la variable \"cantidad\" que muestre el producto \"6549\".\n",
        "\n",
        "6. Separando por producto, ¿hay outliers en la variable \"cantidad\"?"
      ]
    },
    {
      "cell_type": "code",
      "execution_count": null,
      "id": "yWK1UdcVRRBY",
      "metadata": {
        "colab": {
          "base_uri": "https://localhost:8080/"
        },
        "id": "yWK1UdcVRRBY",
        "outputId": "e979548f-d579-4da9-8995-4d5394814176"
      },
      "outputs": [],
      "source": [
        "# 5\n",
        "# Rango de fechas del conjunto de datos\n",
        "\n",
        "min_date = df['fecha_venta'].min()\n",
        "max_date = df['fecha_venta'].max()\n",
        "\n",
        "print(f\"El conjunto de datos contiene valores desde {min_date} hasta {max_date}. \",\n",
        "      f\"Lo que supone {max_date - min_date}\")"
      ]
    },
    {
      "cell_type": "code",
      "execution_count": null,
      "id": "bj-3oSNMRdbW",
      "metadata": {
        "colab": {
          "base_uri": "https://localhost:8080/"
        },
        "id": "bj-3oSNMRdbW",
        "outputId": "753b7241-3c04-40d5-b09c-802201f80fd6"
      },
      "outputs": [],
      "source": [
        "# 5\n",
        "# Fechas faltantes\n",
        "\n",
        "unique_articles = df.sort_values(\"familia\")[\"articulo\"].unique().tolist()\n",
        "complete_range = pd.date_range(start=min_date, end=max_date, freq='D')\n",
        "\n",
        "for article in unique_articles:\n",
        "\n",
        "    subset = df.query(\"articulo == @article\")\n",
        "    family = subset[\"familia\"].unique().tolist()[0]\n",
        "\n",
        "    missing_dates = complete_range.difference(subset['fecha_venta'])\n",
        "\n",
        "    print(family, \"-> Articulo\", article, \"-> Fechas faltantes\", len(missing_dates))"
      ]
    },
    {
      "cell_type": "code",
      "execution_count": null,
      "id": "QpuEm7LbSH3C",
      "metadata": {
        "colab": {
          "base_uri": "https://localhost:8080/",
          "height": 579
        },
        "id": "QpuEm7LbSH3C",
        "outputId": "62d12500-a0c3-494f-861d-ccf28ab151ac"
      },
      "outputs": [],
      "source": [
        "# 5\n",
        "# Gráfico de la cantidad del producto \"6549\"\n",
        "\n",
        "articulo = 3960\n",
        "filtered_df = (\n",
        "    df.query(\"articulo == @articulo\")\n",
        "      .set_index(\"fecha_venta\")\n",
        "      .reindex(complete_range)\n",
        ")\n",
        "\n",
        "filtered_df[\"articulo\"] = filtered_df[\"articulo\"].fillna(method='ffill')\n",
        "\n",
        "fig = px.line(filtered_df, x=filtered_df.index, y=\"cantidad\", color=\"articulo\")\n",
        "fig.show()"
      ]
    },
    {
      "cell_type": "code",
      "execution_count": null,
      "id": "S8cQaQICSZEu",
      "metadata": {
        "colab": {
          "base_uri": "https://localhost:8080/",
          "height": 631
        },
        "id": "S8cQaQICSZEu",
        "outputId": "fe5c977f-335d-4115-98f7-56899e5a559a"
      },
      "outputs": [],
      "source": [
        "articulo = 5403\n",
        "filtered_df = (\n",
        "    df.query(\"articulo == @articulo\")\n",
        "      .set_index(\"fecha_venta\")\n",
        "      .reindex(complete_range)\n",
        ")\n",
        "\n",
        "filtered_df[\"articulo\"] = filtered_df[\"articulo\"].fillna(method='ffill')\n",
        "\n",
        "fig = px.line(filtered_df, x=filtered_df.index, y=\"cantidad\", color=\"articulo\")\n",
        "fig.show()"
      ]
    },
    {
      "cell_type": "code",
      "execution_count": null,
      "id": "iTNY6p3LSevO",
      "metadata": {
        "colab": {
          "base_uri": "https://localhost:8080/"
        },
        "id": "iTNY6p3LSevO",
        "outputId": "ec3cc3b2-593e-46f0-9ab2-a7fddc92eed2"
      },
      "outputs": [],
      "source": [
        "# 6\n",
        "# Outliers en cantidad desglosando por producto\n",
        "\n",
        "unique_articles = df.sort_values(\"familia\")[\"articulo\"].unique().tolist()\n",
        "\n",
        "for article in unique_articles:\n",
        "\n",
        "    subset = df.query(\"articulo == @article\")\n",
        "    family = subset[\"familia\"].unique().tolist()[0]\n",
        "\n",
        "    Q1 = subset['cantidad'].quantile(0.25)\n",
        "    Q3 = subset['cantidad'].quantile(0.75)\n",
        "    IQR = Q3 - Q1\n",
        "\n",
        "    outliers = subset[(subset['cantidad'] < (Q1 - 1.5 * IQR)) | (subset['cantidad'] > (Q3 + 1.5 * IQR))]\n",
        "\n",
        "    print(family, \"-> Articulo\", article, \"-> Outliers\", len(outliers[\"cantidad\"]))"
      ]
    },
    {
      "cell_type": "code",
      "execution_count": null,
      "id": "JrFtRR18S3SK",
      "metadata": {
        "colab": {
          "base_uri": "https://localhost:8080/",
          "height": 243
        },
        "id": "JrFtRR18S3SK",
        "outputId": "5bd1cda7-7896-48b7-8f75-c01f2550ba0b"
      },
      "outputs": [],
      "source": [
        "  outliers.head()"
      ]
    },
    {
      "cell_type": "markdown",
      "id": "4243647a",
      "metadata": {
        "id": "4243647a"
      },
      "source": [
        "*****"
      ]
    },
    {
      "cell_type": "markdown",
      "id": "fbe36ad8",
      "metadata": {
        "id": "fbe36ad8"
      },
      "source": [
        "#### 4.2. Análisis de la variable a predecir"
      ]
    },
    {
      "cell_type": "markdown",
      "id": "03b03bce",
      "metadata": {
        "id": "03b03bce"
      },
      "source": [
        "Este apartado tiene como cometido comprender la evolución de la variable \"cantidad\" en el tiempo y como se relaciona esta consigo misma."
      ]
    },
    {
      "cell_type": "markdown",
      "id": "5b55d8fc",
      "metadata": {
        "id": "5b55d8fc"
      },
      "source": [
        "**Grupo de preguntas 3** (x minutos):"
      ]
    },
    {
      "cell_type": "markdown",
      "id": "2e639e30",
      "metadata": {
        "id": "2e639e30"
      },
      "source": [
        "7. Crea un gráfico de la evolución temporal general de la variable \"cantidad\". Nota: Se debe de agrupar.\n",
        "\n",
        "8. Crea un gráfico de la evolución temporal por familia de la variable \"cantidad\". Nota: Se debe de agrupar.\n",
        "\n",
        "9. Crea un gráfico de la evolución temporal por artículo de la variable \"cantidad\". Nota: Se debe de agrupar.\n",
        "\n",
        "10. Se que hay mucho ruido, pero ¿a simple vista crees que hay tendencia y/o estacionalidad en las series temporales anteriores?"
      ]
    },
    {
      "cell_type": "code",
      "execution_count": null,
      "id": "PmcTXKPtT4TO",
      "metadata": {
        "colab": {
          "base_uri": "https://localhost:8080/",
          "height": 542
        },
        "id": "PmcTXKPtT4TO",
        "outputId": "15043c0e-ccdd-44a9-a2d5-df1b34522764"
      },
      "outputs": [],
      "source": [
        "# 7\n",
        "# Evolución temporal general de la variable \"cantidad\"\n",
        "\n",
        "group = df.groupby(pd.Grouper(key=\"fecha_venta\", freq=\"1D\"))[\"cantidad\"].sum().reset_index()\n",
        "fig = px.line(group, x=\"fecha_venta\", y=\"cantidad\")\n",
        "fig.show()"
      ]
    },
    {
      "cell_type": "code",
      "execution_count": null,
      "id": "jwMjQkQDT4Gb",
      "metadata": {
        "colab": {
          "base_uri": "https://localhost:8080/",
          "height": 542
        },
        "id": "jwMjQkQDT4Gb",
        "outputId": "e878e149-5376-4fe5-daf8-70a12931068b"
      },
      "outputs": [],
      "source": [
        "# 8\n",
        "# Evolución temporal por familia de la variable \"cantidad\"\n",
        "\n",
        "group = df.groupby([\"familia\", pd.Grouper(key=\"fecha_venta\", freq=\"1D\")])[\"cantidad\"].sum().reset_index()\n",
        "fig = px.line(group, x=\"fecha_venta\", y=\"cantidad\", color=\"familia\")\n",
        "fig.show()"
      ]
    },
    {
      "cell_type": "code",
      "execution_count": null,
      "id": "ftx_OkcNT3Vn",
      "metadata": {
        "colab": {
          "base_uri": "https://localhost:8080/",
          "height": 542
        },
        "id": "ftx_OkcNT3Vn",
        "outputId": "9339a59d-25d5-4f75-a0e5-9884f4e2ff5a"
      },
      "outputs": [],
      "source": [
        "# 8\n",
        "# Evolución temporal por familia de la variable \"cantidad\"\n",
        "\n",
        "scaler = MinMaxScaler()\n",
        "\n",
        "def normalize(column):\n",
        "    return scaler.fit_transform(column.values.reshape(-1, 1)).flatten()\n",
        "\n",
        "group = df.groupby([\"familia\", pd.Grouper(key=\"fecha_venta\", freq=\"1D\")])[\"cantidad\"].sum().reset_index()\n",
        "group['cantidad'] = group.groupby('familia')['cantidad'].transform(normalize)\n",
        "fig = px.line(group, x=\"fecha_venta\", y=\"cantidad\", color=\"familia\")\n",
        "fig.show()"
      ]
    },
    {
      "cell_type": "code",
      "execution_count": null,
      "id": "nXkxgIPMWCdp",
      "metadata": {
        "colab": {
          "base_uri": "https://localhost:8080/",
          "height": 542
        },
        "id": "nXkxgIPMWCdp",
        "outputId": "464f4d60-23ef-4267-d6ec-4a03e1a301e0"
      },
      "outputs": [],
      "source": [
        "# 9\n",
        "# Evolución temporal por artículo de la variable \"cantidad\"\n",
        "\n",
        "group = df.groupby([\"articulo\", pd.Grouper(key=\"fecha_venta\", freq=\"1D\")])[\"cantidad\"].sum().reset_index()\n",
        "fig = px.line(group, x=\"fecha_venta\", y=\"cantidad\", color=\"articulo\")\n",
        "fig.show()"
      ]
    },
    {
      "cell_type": "markdown",
      "id": "52d0d935",
      "metadata": {
        "id": "52d0d935"
      },
      "source": [
        "**Grupo de preguntas 4** (x minutos):"
      ]
    },
    {
      "cell_type": "markdown",
      "id": "2d28cb14",
      "metadata": {
        "id": "2d28cb14"
      },
      "source": [
        "11. Aplica alguna técnica estadística para observar si hay estacionalidad en la evolucion temporal general de la variable \"cantidad\". Pista: Tomar la primera diferencia y, después, hacer un analisis de autocorrelación.\n",
        "\n",
        "12. Sin aplicar la primera diferencia y creando nuevas columnas de fecha a partir de la variable \"fecha_venta\" (semana del año, mes del año, día de la semana, día del mes, día del año) comprueba realizando diferentes agrupaciones y gráficos si nuestro análisis de autocorrelación de nuestra variable cantidad nos mostraba lo correcto. Si encuentras algún gráfico que te llame la atención, baja el nivel del análisis (Ej: 1. Cantidad general -> 2. Cantidad por familia -> 3. Cantidad por artículo)."
      ]
    },
    {
      "cell_type": "code",
      "execution_count": null,
      "id": "lbDQCvXpWu9X",
      "metadata": {
        "colab": {
          "base_uri": "https://localhost:8080/",
          "height": 663
        },
        "id": "lbDQCvXpWu9X",
        "outputId": "2b24aeb9-016a-449f-c24e-ed14e28764c9"
      },
      "outputs": [],
      "source": [
        "# 11\n",
        "# Check si el proceso es estacionario\n",
        "\n",
        "def check_stationarity(series):\n",
        "    result = adfuller(series.values)\n",
        "\n",
        "    print('ADF Statistic: ', result[0])\n",
        "    print('p-value: ', result[1])\n",
        "    print('Critical Values:')\n",
        "    for key, value in result[4].items():\n",
        "        print('\\t%s: %.3f' % (key, value))\n",
        "\n",
        "    if (result[1] <= 0.05) & (result[4]['5%'] > result[0]):\n",
        "        print(\"\\u001b[32m Stationary \\u001b[0m\")\n",
        "    else:\n",
        "        print(\"\\x1b[31m Non-stationary \\x1b[0m\")\n",
        "\n",
        "group = df.groupby([pd.Grouper(key=\"fecha_venta\", freq=\"1D\")])[\"cantidad\"].sum().reset_index()\n",
        "check_stationarity(group[\"cantidad\"])\n",
        "fig = px.line(group, x=\"fecha_venta\", y=\"cantidad\")\n",
        "fig.show()"
      ]
    },
    {
      "cell_type": "code",
      "execution_count": null,
      "id": "8gEBs5ccX3o9",
      "metadata": {
        "colab": {
          "base_uri": "https://localhost:8080/"
        },
        "id": "8gEBs5ccX3o9",
        "outputId": "a1985071-affd-4d2e-e689-d6ec3bc5b526"
      },
      "outputs": [],
      "source": [
        "# 11\n",
        "# Tomando la primera diferencia\n",
        "\n",
        "# Podemos tomar la primera diferencia para observar si nuestra serie se convierte en estacionaria.\n",
        "# Esto elimina tendencias y estabiliza la varianza de la serie, permitiendo que sea modelada.\n",
        "\n",
        "group[\"cantidad_diff\"] = group[\"cantidad\"].diff().fillna(0)\n",
        "check_stationarity(group[\"cantidad_diff\"])"
      ]
    },
    {
      "cell_type": "code",
      "execution_count": null,
      "id": "yeJOH1RzX8pO",
      "metadata": {
        "colab": {
          "base_uri": "https://localhost:8080/",
          "height": 542
        },
        "id": "yeJOH1RzX8pO",
        "outputId": "e677e3f2-d281-4d01-d590-55179374bcc5"
      },
      "outputs": [],
      "source": [
        "# 11\n",
        "# La nueva serie temporal tiene esta pinta\n",
        "\n",
        "fig = px.line(group, x=\"fecha_venta\", y=\"cantidad_diff\")\n",
        "fig.show()"
      ]
    },
    {
      "cell_type": "code",
      "execution_count": null,
      "id": "elIM0TmUYL3F",
      "metadata": {
        "colab": {
          "base_uri": "https://localhost:8080/",
          "height": 487
        },
        "id": "elIM0TmUYL3F",
        "outputId": "81edbfe3-614e-4deb-8329-d537a801dd0d"
      },
      "outputs": [],
      "source": [
        "# 11\n",
        "# Analisis de autocorrelación\n",
        "\n",
        "# En terminos generales, este gráfico nos indica que un valor de cantidad esta\n",
        "# directamente relacionado con su valor de cantidad anterior y su valor de cantidad de la semana pasada.\n",
        "# Parece que hay estacionalidad semanal.\n",
        "\n",
        "plot_acf(group[\"cantidad_diff\"],lags=56)\n",
        "plt.tight_layout()\n",
        "plt.show()"
      ]
    },
    {
      "cell_type": "code",
      "execution_count": null,
      "id": "e3ZHohjKYw7F",
      "metadata": {
        "colab": {
          "base_uri": "https://localhost:8080/",
          "height": 542
        },
        "id": "e3ZHohjKYw7F",
        "outputId": "51cf87dc-bb17-46aa-a3e6-74426b728a20"
      },
      "outputs": [],
      "source": [
        "# 12\n",
        "\n",
        "# Semana y mes del año\n",
        "df[\"weekofyear\"] = df[\"fecha_venta\"].dt.isocalendar().week\n",
        "df[\"monthofyear\"] = df[\"fecha_venta\"].dt.month\n",
        "\n",
        "# Día de la semana, del mes y del año\n",
        "df[\"dayofweek\"] = df[\"fecha_venta\"].dt.b #Lunes 0 y Domingo 6\n",
        "df[\"dayofmonth\"] = df[\"fecha_venta\"].dt.day\n",
        "df[\"dayofyear\"] = df[\"fecha_venta\"].dt.dayofyear\n",
        "\n",
        "def graph_by_freq(freq, breakdown=\"familia\", norm=False):\n",
        "    group = df.groupby([breakdown, freq], as_index=False)[\"cantidad\"].sum()\n",
        "\n",
        "    if norm == True:\n",
        "        group['cantidad'] = group.groupby(breakdown)['cantidad'].transform(normalize)\n",
        "\n",
        "    fig = px.line(group, x=freq, y=\"cantidad\", color=breakdown, markers=True)\n",
        "    fig.show()\n",
        "\n",
        "# A nivel familia\n",
        "graph_by_freq(\"dayofweek\")\n",
        "\n",
        "# Como nos encontramos en nuestro análisis de autocorrelación,\n",
        "# los valores de cantidad podrían tener una relación con su valor de la semana pasada\n",
        "# debido a que hay un patrón de compra semanal que se repite en el tiempo."
      ]
    },
    {
      "cell_type": "code",
      "execution_count": null,
      "id": "UAdnI7ijZP81",
      "metadata": {
        "colab": {
          "base_uri": "https://localhost:8080/",
          "height": 542
        },
        "id": "UAdnI7ijZP81",
        "outputId": "9caf39c8-ff27-4a4b-e8c3-c1b87696281b"
      },
      "outputs": [],
      "source": [
        "# 12\n",
        "\n",
        "# A nivel articulo\n",
        "graph_by_freq(\"dayofweek\", \"articulo\")"
      ]
    },
    {
      "cell_type": "code",
      "execution_count": null,
      "id": "OFZaLJDEZhoE",
      "metadata": {
        "colab": {
          "base_uri": "https://localhost:8080/",
          "height": 542
        },
        "id": "OFZaLJDEZhoE",
        "outputId": "d1720a4d-e9ad-4e70-c6b7-0e2ab69e3d24"
      },
      "outputs": [],
      "source": [
        "# 12\n",
        "# Gráficos caja\n",
        "\n",
        "fig = px.box(df, x=\"dayofweek\", y=\"cantidad\", color='familia')\n",
        "fig.show()"
      ]
    },
    {
      "cell_type": "code",
      "execution_count": null,
      "id": "ESayeYH7ZoKb",
      "metadata": {
        "colab": {
          "base_uri": "https://localhost:8080/",
          "height": 542
        },
        "id": "ESayeYH7ZoKb",
        "outputId": "135cafa9-a499-43e4-9e20-d119cc71942d"
      },
      "outputs": [],
      "source": [
        "graph_by_freq(\"monthofyear\")"
      ]
    },
    {
      "cell_type": "markdown",
      "id": "20909473",
      "metadata": {
        "id": "20909473"
      },
      "source": [
        "*****"
      ]
    },
    {
      "cell_type": "markdown",
      "id": "165500bc",
      "metadata": {
        "id": "165500bc"
      },
      "source": [
        "#### 4.3. Análisis de la variable a predecir frente al resto de variables"
      ]
    },
    {
      "cell_type": "markdown",
      "id": "49f8a1ea",
      "metadata": {
        "id": "49f8a1ea"
      },
      "source": [
        "**Grupo de preguntas 5** (x minutos):"
      ]
    },
    {
      "cell_type": "markdown",
      "id": "87bb0223",
      "metadata": {
        "id": "87bb0223"
      },
      "source": [
        "13. ¿El comportamiento de compra (la variable \"cantidad\") cuando es festivo es superior a cuando no lo es?\n",
        "\n",
        "14. ¿El comportamiento de compra (la variable \"cantidad\") cuando llueve es superior a cuando no llueve?\n",
        "\n",
        "15. Divide la variable \"tavg_w\" en quintiles y muestra con un gráfico de barras sí la variable \"cantidad\" es superior en alguno de sus quintiles."
      ]
    },
    {
      "cell_type": "code",
      "execution_count": null,
      "id": "9WTgmGGraES9",
      "metadata": {
        "colab": {
          "base_uri": "https://localhost:8080/",
          "height": 542
        },
        "id": "9WTgmGGraES9",
        "outputId": "a0aa0ccc-76b8-4e95-b8d5-565752c2a882"
      },
      "outputs": [],
      "source": [
        "# 13\n",
        "\n",
        "# 1 si es festivo, 0 si no lo es\n",
        "df['es_festivo'] = df['festivo'].apply(lambda x: 0 if x is None else 1)\n",
        "\n",
        "fig = px.box(df, x=\"es_festivo\", y=\"cantidad\", color='familia')\n",
        "fig.show()\n",
        "\n",
        "# El comportamiento de compra cuando es festivo parece ligeramente superior"
      ]
    },
    {
      "cell_type": "code",
      "execution_count": null,
      "id": "Ix8YLXY2a0Rw",
      "metadata": {
        "colab": {
          "base_uri": "https://localhost:8080/",
          "height": 542
        },
        "id": "Ix8YLXY2a0Rw",
        "outputId": "9a3ad87b-0420-438f-e590-72e5371b3bae"
      },
      "outputs": [],
      "source": [
        "# 14\n",
        "\n",
        "# 1 si llueve, 0 si no llueve\n",
        "df[\"lluvia\"] = np.where(df[\"prcp_w\"] > 0, 1, 0)\n",
        "\n",
        "fig = px.box(df, x=\"lluvia\", y=\"cantidad\", color='familia')\n",
        "fig.show()\n",
        "\n",
        "# Parece que la lluvia no es un impedimiento para comprar"
      ]
    },
    {
      "cell_type": "code",
      "execution_count": null,
      "id": "4Keuqo4LazcF",
      "metadata": {
        "colab": {
          "base_uri": "https://localhost:8080/",
          "height": 542
        },
        "id": "4Keuqo4LazcF",
        "outputId": "205b7fba-174e-4273-defb-549fcfa7512e"
      },
      "outputs": [],
      "source": [
        "# 15\n",
        "\n",
        "labels_tavg = ['Temperatura muy baja',\n",
        "               'Temperatura baja',\n",
        "               'Temperatura normal',\n",
        "               'Temperatura alta',\n",
        "               'Temperatura muy alta']\n",
        "\n",
        "df['quintiles_tavg_w'] = pd.qcut(df['tavg_w'], q=5, labels=labels_tavg)\n",
        "\n",
        "group = df.groupby([\"familia\", \"quintiles_tavg_w\"])[\"cantidad\"].sum().reset_index()\n",
        "fig = px.bar(group, x='quintiles_tavg_w', y='cantidad', color=\"familia\",barmode='group')\n",
        "fig.show()"
      ]
    },
    {
      "cell_type": "markdown",
      "id": "0a8ff6a1",
      "metadata": {
        "id": "0a8ff6a1"
      },
      "source": [
        "**Grupo de preguntas 6** (x minutos):"
      ]
    },
    {
      "cell_type": "markdown",
      "id": "87a9c034",
      "metadata": {
        "id": "87a9c034"
      },
      "source": [
        "16. ¿Un incremento en el precio reduce la propensión a consumir de un artículo?"
      ]
    },
    {
      "cell_type": "code",
      "execution_count": null,
      "id": "vfV77DK6brNn",
      "metadata": {
        "colab": {
          "base_uri": "https://localhost:8080/",
          "height": 542
        },
        "id": "vfV77DK6brNn",
        "outputId": "99080813-3bb1-4a7c-cdc8-f8a4e8c57fca"
      },
      "outputs": [],
      "source": [
        "# 16\n",
        "\n",
        "def function_variations(x):\n",
        "    list_unique = x.unique()\n",
        "    len_list = len(list_unique)\n",
        "\n",
        "    if len_list > 1:\n",
        "        return 1\n",
        "    else:\n",
        "        return 0\n",
        "\n",
        "group = df.groupby([\"articulo\",\n",
        "                    pd.Grouper(key=\"fecha_venta\", freq=\"1M\"),\n",
        "                    \"familia\"]).agg({\"cantidad\": \"sum\",\n",
        "                                     \"precio\": function_variations}).reset_index()\n",
        "\n",
        "group[\"precio\"] = group.groupby(\"articulo\")[\"precio\"].transform(\"cumsum\")\n",
        "group[\"precio\"] = group[\"precio\"].astype(object)\n",
        "\n",
        "fig = px.box(group, x=\"precio\", y=\"cantidad\", color='articulo')\n",
        "fig.show()\n",
        "\n",
        "# No es concluyente debido a que puede haber una tendencia negativa/positiva en el consumo general del articulo\n",
        "# a lo largo del tiempo, pero es interesante observar como muchas veces si que tiene un impacto negativo\n",
        "# (productos: 417, 1043, 1084, 3960, 5403).\n",
        "# Podría ser también por la canibalización de nuevos productos a otros anteriores."
      ]
    },
    {
      "cell_type": "markdown",
      "id": "1fec7643",
      "metadata": {
        "id": "1fec7643"
      },
      "source": [
        "*****"
      ]
    }
  ],
  "metadata": {
    "colab": {
      "provenance": []
    },
    "kernelspec": {
      "display_name": "panaderia-datathon",
      "language": "python",
      "name": "python3"
    },
    "language_info": {
      "codemirror_mode": {
        "name": "ipython",
        "version": 3
      },
      "file_extension": ".py",
      "mimetype": "text/x-python",
      "name": "python",
      "nbconvert_exporter": "python",
      "pygments_lexer": "ipython3",
      "version": "3.11.13"
    }
  },
  "nbformat": 4,
  "nbformat_minor": 5
}
